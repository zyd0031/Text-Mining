{
 "cells": [
  {
   "cell_type": "code",
   "execution_count": 1,
   "id": "8fa17e41",
   "metadata": {},
   "outputs": [],
   "source": [
    "from sklearn.datasets import fetch_20newsgroups\n",
    "\n",
    "train = fetch_20newsgroups(subset='train')\n",
    "test = fetch_20newsgroups(subset='test')"
   ]
  },
  {
   "cell_type": "code",
   "execution_count": 2,
   "id": "da65f8b9",
   "metadata": {},
   "outputs": [],
   "source": [
    "train_X = train.data\n",
    "test_X = test.data\n",
    "train_y = train.target\n",
    "test_y = test.target"
   ]
  },
  {
   "cell_type": "code",
   "execution_count": 3,
   "id": "791cc3d5",
   "metadata": {},
   "outputs": [],
   "source": [
    "from sklearn.feature_extraction.text import CountVectorizer\n",
    "from sklearn.pipeline import Pipeline\n",
    "import numpy as np\n",
    "import pandas as pd\n",
    "from sklearn import metrics\n",
    "from sklearn.model_selection import GridSearchCV\n",
    "from sklearn.naive_bayes import MultinomialNB\n",
    "from sklearn.svm import LinearSVC\n",
    "from sklearn.feature_selection import SelectFromModel\n",
    "from sklearn.linear_model import SGDClassifier\n",
    "from sklearn import metrics"
   ]
  },
  {
   "cell_type": "code",
   "execution_count": 4,
   "id": "0c23335d",
   "metadata": {},
   "outputs": [],
   "source": [
    "df_accuracy = pd.DataFrame(columns = [\"counts\", \"tf\", \"tf-idf\"], index = [\"MultinomialNB\", \"LinearSVC\", \"SGDClassifier\"])"
   ]
  },
  {
   "cell_type": "markdown",
   "id": "1918c926",
   "metadata": {},
   "source": [
    "# MultinomialNB"
   ]
  },
  {
   "cell_type": "markdown",
   "id": "caaa023a",
   "metadata": {},
   "source": [
    "## counts"
   ]
  },
  {
   "cell_type": "code",
   "execution_count": 5,
   "id": "f310484e",
   "metadata": {},
   "outputs": [
    {
     "name": "stdout",
     "output_type": "stream",
     "text": [
      "clf__alpha: 0.1\n",
      "clf__fit_prior: True\n"
     ]
    }
   ],
   "source": [
    "nb_count = Pipeline([\n",
    "    ('vect', CountVectorizer()),\n",
    "    ('clf', MultinomialNB())\n",
    "])\n",
    "\n",
    "param_grid = {\n",
    "    'clf__alpha': [0.1, 0.5, 1.0, 2.0, 5.0],\n",
    "    'clf__fit_prior': [True, False]\n",
    "}\n",
    "nb_count_clf = GridSearchCV(nb_count, param_grid, cv=5, n_jobs=-1)\n",
    "nb_count_clf = nb_count_clf.fit(train_X, train_y)\n",
    "for param_name in sorted(param_grid.keys()):\n",
    "    print(\"%s: %r\" % (param_name, nb_count_clf.best_params_[param_name]))\n",
    "    \n",
    "predicted = nb_count_clf.predict(test_X)\n",
    "df_accuracy.loc['MultinomialNB', 'counts'] = np.mean(predicted == test_y)"
   ]
  },
  {
   "cell_type": "code",
   "execution_count": 6,
   "id": "466f33b6",
   "metadata": {},
   "outputs": [
    {
     "name": "stdout",
     "output_type": "stream",
     "text": [
      "                          precision    recall  f1-score   support\n",
      "\n",
      "             alt.atheism       0.79      0.81      0.80       319\n",
      "           comp.graphics       0.58      0.81      0.68       389\n",
      " comp.os.ms-windows.misc       0.50      0.01      0.02       394\n",
      "comp.sys.ibm.pc.hardware       0.54      0.78      0.64       392\n",
      "   comp.sys.mac.hardware       0.73      0.84      0.78       385\n",
      "          comp.windows.x       0.81      0.75      0.78       395\n",
      "            misc.forsale       0.83      0.84      0.83       390\n",
      "               rec.autos       0.86      0.92      0.89       396\n",
      "         rec.motorcycles       0.92      0.96      0.94       398\n",
      "      rec.sport.baseball       0.94      0.93      0.94       397\n",
      "        rec.sport.hockey       0.96      0.96      0.96       399\n",
      "               sci.crypt       0.89      0.93      0.91       396\n",
      "         sci.electronics       0.78      0.77      0.77       393\n",
      "                 sci.med       0.90      0.84      0.87       396\n",
      "               sci.space       0.88      0.90      0.89       394\n",
      "  soc.religion.christian       0.89      0.93      0.91       398\n",
      "      talk.politics.guns       0.78      0.89      0.83       364\n",
      "   talk.politics.mideast       0.97      0.88      0.92       376\n",
      "      talk.politics.misc       0.72      0.63      0.67       310\n",
      "      talk.religion.misc       0.70      0.64      0.67       251\n",
      "\n",
      "                accuracy                           0.81      7532\n",
      "               macro avg       0.80      0.80      0.79      7532\n",
      "            weighted avg       0.80      0.81      0.79      7532\n",
      "\n"
     ]
    }
   ],
   "source": [
    ">>> print(metrics.classification_report(test_y, predicted,\n",
    "...     target_names=test.target_names))"
   ]
  },
  {
   "cell_type": "markdown",
   "id": "d2f2e607",
   "metadata": {},
   "source": [
    "## tf"
   ]
  },
  {
   "cell_type": "code",
   "execution_count": 7,
   "id": "450ad31d",
   "metadata": {},
   "outputs": [
    {
     "name": "stdout",
     "output_type": "stream",
     "text": [
      "clf__alpha: 0.1\n",
      "clf__fit_prior: False\n"
     ]
    }
   ],
   "source": [
    ">>> from sklearn.feature_extraction.text import TfidfTransformer\n",
    "nb_tf = Pipeline([\n",
    "    ('vect', CountVectorizer()),\n",
    "    ('tf', TfidfTransformer(use_idf=False)),\n",
    "    ('clf', MultinomialNB())\n",
    "])\n",
    "\n",
    "nb_tf_clf = GridSearchCV(nb_tf, param_grid, cv=5, n_jobs=-1)\n",
    "nb_tf_clf = nb_tf_clf.fit(train_X, train_y)\n",
    "for param_name in sorted(param_grid.keys()):\n",
    "    print(\"%s: %r\" % (param_name, nb_tf_clf.best_params_[param_name]))\n",
    "\n",
    "predicted = nb_tf_clf.predict(test_X)\n",
    "df_accuracy.loc['MultinomialNB', 'tf'] = np.mean(predicted == test_y)"
   ]
  },
  {
   "cell_type": "code",
   "execution_count": 8,
   "id": "3ff10db0",
   "metadata": {},
   "outputs": [
    {
     "name": "stdout",
     "output_type": "stream",
     "text": [
      "                          precision    recall  f1-score   support\n",
      "\n",
      "             alt.atheism       0.80      0.62      0.70       319\n",
      "           comp.graphics       0.74      0.73      0.73       389\n",
      " comp.os.ms-windows.misc       0.80      0.67      0.73       394\n",
      "comp.sys.ibm.pc.hardware       0.67      0.79      0.72       392\n",
      "   comp.sys.mac.hardware       0.86      0.81      0.84       385\n",
      "          comp.windows.x       0.87      0.78      0.83       395\n",
      "            misc.forsale       0.89      0.82      0.85       390\n",
      "               rec.autos       0.85      0.91      0.88       396\n",
      "         rec.motorcycles       0.90      0.96      0.93       398\n",
      "      rec.sport.baseball       0.92      0.92      0.92       397\n",
      "        rec.sport.hockey       0.92      0.96      0.94       399\n",
      "               sci.crypt       0.77      0.94      0.85       396\n",
      "         sci.electronics       0.80      0.73      0.77       393\n",
      "                 sci.med       0.88      0.84      0.86       396\n",
      "               sci.space       0.84      0.91      0.88       394\n",
      "  soc.religion.christian       0.58      0.96      0.72       398\n",
      "      talk.politics.guns       0.66      0.93      0.77       364\n",
      "   talk.politics.mideast       0.95      0.90      0.92       376\n",
      "      talk.politics.misc       0.96      0.43      0.59       310\n",
      "      talk.religion.misc       0.96      0.18      0.31       251\n",
      "\n",
      "                accuracy                           0.81      7532\n",
      "               macro avg       0.83      0.79      0.79      7532\n",
      "            weighted avg       0.83      0.81      0.80      7532\n",
      "\n"
     ]
    }
   ],
   "source": [
    ">>> print(metrics.classification_report(test_y, predicted,\n",
    "...     target_names=test.target_names))"
   ]
  },
  {
   "cell_type": "markdown",
   "id": "e0d4de19",
   "metadata": {},
   "source": [
    "## tf-idf"
   ]
  },
  {
   "cell_type": "code",
   "execution_count": 9,
   "id": "bd9307e2",
   "metadata": {},
   "outputs": [
    {
     "name": "stdout",
     "output_type": "stream",
     "text": [
      "clf__alpha: 0.1\n",
      "clf__fit_prior: False\n"
     ]
    }
   ],
   "source": [
    "nb_tfidf = Pipeline([\n",
    "    ('vect', CountVectorizer()),\n",
    "    ('tf', TfidfTransformer()),\n",
    "    ('clf', MultinomialNB())\n",
    "])\n",
    "\n",
    "nb_tfidf_clf = GridSearchCV(nb_tfidf, param_grid, cv=5, n_jobs=-1)\n",
    "nb_tfidf_clf = nb_tfidf_clf.fit(train_X, train_y)\n",
    "for param_name in sorted(param_grid.keys()):\n",
    "    print(\"%s: %r\" % (param_name, nb_tfidf_clf.best_params_[param_name]))\n",
    "predicted = nb_tfidf_clf.predict(test_X)\n",
    "df_accuracy.loc['MultinomialNB', 'tf-idf'] = np.mean(predicted == test_y)"
   ]
  },
  {
   "cell_type": "code",
   "execution_count": 10,
   "id": "3c2172f3",
   "metadata": {},
   "outputs": [
    {
     "name": "stdout",
     "output_type": "stream",
     "text": [
      "                          precision    recall  f1-score   support\n",
      "\n",
      "             alt.atheism       0.83      0.74      0.78       319\n",
      "           comp.graphics       0.76      0.72      0.74       389\n",
      " comp.os.ms-windows.misc       0.78      0.66      0.71       394\n",
      "comp.sys.ibm.pc.hardware       0.66      0.78      0.71       392\n",
      "   comp.sys.mac.hardware       0.86      0.84      0.85       385\n",
      "          comp.windows.x       0.86      0.79      0.83       395\n",
      "            misc.forsale       0.89      0.76      0.82       390\n",
      "               rec.autos       0.89      0.91      0.90       396\n",
      "         rec.motorcycles       0.93      0.97      0.95       398\n",
      "      rec.sport.baseball       0.94      0.93      0.94       397\n",
      "        rec.sport.hockey       0.93      0.97      0.95       399\n",
      "               sci.crypt       0.79      0.95      0.86       396\n",
      "         sci.electronics       0.82      0.75      0.78       393\n",
      "                 sci.med       0.90      0.84      0.87       396\n",
      "               sci.space       0.85      0.93      0.89       394\n",
      "  soc.religion.christian       0.68      0.96      0.79       398\n",
      "      talk.politics.guns       0.70      0.95      0.80       364\n",
      "   talk.politics.mideast       0.95      0.95      0.95       376\n",
      "      talk.politics.misc       0.87      0.57      0.69       310\n",
      "      talk.religion.misc       0.89      0.39      0.54       251\n",
      "\n",
      "                accuracy                           0.83      7532\n",
      "               macro avg       0.84      0.82      0.82      7532\n",
      "            weighted avg       0.84      0.83      0.82      7532\n",
      "\n"
     ]
    }
   ],
   "source": [
    ">>> print(metrics.classification_report(test_y, predicted,\n",
    "...     target_names=test.target_names))"
   ]
  },
  {
   "cell_type": "markdown",
   "id": "f9c022b2",
   "metadata": {},
   "source": [
    "# SGDClassifier"
   ]
  },
  {
   "cell_type": "markdown",
   "id": "95493821",
   "metadata": {},
   "source": [
    "## count"
   ]
  },
  {
   "cell_type": "code",
   "execution_count": 11,
   "id": "8f6b6820",
   "metadata": {},
   "outputs": [
    {
     "name": "stdout",
     "output_type": "stream",
     "text": [
      "clf__alpha: 0.001\n"
     ]
    }
   ],
   "source": [
    "sgd_count = Pipeline([\n",
    "    ('vect', CountVectorizer()),\n",
    "    ('clf', SGDClassifier(loss='hinge', penalty='l2', random_state=42,max_iter=5, tol=None))\n",
    "])\n",
    "\n",
    "param_grid = {\n",
    "    'clf__alpha': [0.001, 0.01]\n",
    "}\n",
    "\n",
    "sgd_count_clf = GridSearchCV(sgd_count, param_grid, cv=5, n_jobs=-1)\n",
    "sgd_count_clf = sgd_count_clf.fit(train_X, train_y)\n",
    "for param_name in sorted(param_grid.keys()):\n",
    "    print(\"%s: %r\" % (param_name, sgd_count_clf.best_params_[param_name]))\n",
    "    \n",
    "predicted = sgd_count_clf.predict(test_X)\n",
    "df_accuracy.loc['SGDClassifier', 'counts'] = np.mean(predicted == test_y)"
   ]
  },
  {
   "cell_type": "code",
   "execution_count": 12,
   "id": "5ee32597",
   "metadata": {},
   "outputs": [
    {
     "name": "stdout",
     "output_type": "stream",
     "text": [
      "                          precision    recall  f1-score   support\n",
      "\n",
      "             alt.atheism       0.75      0.65      0.70       319\n",
      "           comp.graphics       0.60      0.75      0.67       389\n",
      " comp.os.ms-windows.misc       0.74      0.52      0.61       394\n",
      "comp.sys.ibm.pc.hardware       0.61      0.69      0.65       392\n",
      "   comp.sys.mac.hardware       0.84      0.65      0.73       385\n",
      "          comp.windows.x       0.81      0.72      0.77       395\n",
      "            misc.forsale       0.74      0.85      0.79       390\n",
      "               rec.autos       0.87      0.77      0.82       396\n",
      "         rec.motorcycles       0.81      0.91      0.86       398\n",
      "      rec.sport.baseball       0.79      0.88      0.83       397\n",
      "        rec.sport.hockey       0.89      0.93      0.91       399\n",
      "               sci.crypt       0.83      0.90      0.87       396\n",
      "         sci.electronics       0.71      0.67      0.69       393\n",
      "                 sci.med       0.79      0.76      0.77       396\n",
      "               sci.space       0.84      0.87      0.85       394\n",
      "  soc.religion.christian       0.76      0.85      0.80       398\n",
      "      talk.politics.guns       0.76      0.70      0.72       364\n",
      "   talk.politics.mideast       0.96      0.65      0.78       376\n",
      "      talk.politics.misc       0.58      0.58      0.58       310\n",
      "      talk.religion.misc       0.42      0.61      0.50       251\n",
      "\n",
      "                accuracy                           0.75      7532\n",
      "               macro avg       0.76      0.75      0.75      7532\n",
      "            weighted avg       0.76      0.75      0.75      7532\n",
      "\n"
     ]
    }
   ],
   "source": [
    ">>> print(metrics.classification_report(test_y, predicted,\n",
    "...     target_names=test.target_names))"
   ]
  },
  {
   "cell_type": "markdown",
   "id": "ef1fca58",
   "metadata": {},
   "source": [
    "## tf"
   ]
  },
  {
   "cell_type": "code",
   "execution_count": 13,
   "id": "82e5eeb8",
   "metadata": {},
   "outputs": [
    {
     "name": "stdout",
     "output_type": "stream",
     "text": [
      "clf__alpha: 0.001\n"
     ]
    }
   ],
   "source": [
    "sgd_tf = Pipeline([\n",
    "    ('vect', CountVectorizer()),\n",
    "    ('tf', TfidfTransformer(use_idf=False)),\n",
    "    ('clf', SGDClassifier(loss='hinge', penalty='l2', random_state=42,max_iter=5, tol=None))\n",
    "])\n",
    "\n",
    "sgd_tf_clf = GridSearchCV(sgd_tf, param_grid, cv=5, n_jobs=-1)\n",
    "sgd_tf_clf = sgd_tf_clf.fit(train_X, train_y)\n",
    "for param_name in sorted(param_grid.keys()):\n",
    "    print(\"%s: %r\" % (param_name, sgd_tf_clf.best_params_[param_name]))\n",
    "\n",
    "sgd_tf_clf.fit(train_X, train_y)\n",
    "predicted = sgd_tf_clf.predict(test_X)\n",
    "df_accuracy.loc['SGDClassifier', 'tf'] = np.mean(predicted == test_y)"
   ]
  },
  {
   "cell_type": "code",
   "execution_count": 14,
   "id": "7b4ef078",
   "metadata": {},
   "outputs": [
    {
     "name": "stdout",
     "output_type": "stream",
     "text": [
      "                          precision    recall  f1-score   support\n",
      "\n",
      "             alt.atheism       0.77      0.57      0.65       319\n",
      "           comp.graphics       0.56      0.73      0.63       389\n",
      " comp.os.ms-windows.misc       0.69      0.73      0.71       394\n",
      "comp.sys.ibm.pc.hardware       0.72      0.59      0.65       392\n",
      "   comp.sys.mac.hardware       0.86      0.70      0.77       385\n",
      "          comp.windows.x       0.74      0.70      0.72       395\n",
      "            misc.forsale       0.72      0.92      0.81       390\n",
      "               rec.autos       0.82      0.87      0.84       396\n",
      "         rec.motorcycles       0.89      0.91      0.90       398\n",
      "      rec.sport.baseball       0.82      0.87      0.85       397\n",
      "        rec.sport.hockey       0.88      0.95      0.91       399\n",
      "               sci.crypt       0.81      0.93      0.87       396\n",
      "         sci.electronics       0.81      0.51      0.63       393\n",
      "                 sci.med       0.79      0.75      0.77       396\n",
      "               sci.space       0.79      0.90      0.85       394\n",
      "  soc.religion.christian       0.73      0.89      0.80       398\n",
      "      talk.politics.guns       0.64      0.89      0.74       364\n",
      "   talk.politics.mideast       0.87      0.89      0.88       376\n",
      "      talk.politics.misc       0.89      0.48      0.62       310\n",
      "      talk.religion.misc       0.75      0.37      0.50       251\n",
      "\n",
      "                accuracy                           0.77      7532\n",
      "               macro avg       0.78      0.76      0.76      7532\n",
      "            weighted avg       0.78      0.77      0.76      7532\n",
      "\n"
     ]
    }
   ],
   "source": [
    ">>> print(metrics.classification_report(test_y, predicted,\n",
    "...     target_names=test.target_names))"
   ]
  },
  {
   "cell_type": "markdown",
   "id": "b4a870d1",
   "metadata": {},
   "source": [
    "## tf-idf"
   ]
  },
  {
   "cell_type": "code",
   "execution_count": 15,
   "id": "1a0ebc31",
   "metadata": {},
   "outputs": [
    {
     "name": "stdout",
     "output_type": "stream",
     "text": [
      "clf__alpha: 0.001\n"
     ]
    }
   ],
   "source": [
    "sgd_tfidf = Pipeline([\n",
    "    ('vect', CountVectorizer()),\n",
    "    ('tf', TfidfTransformer()),\n",
    "    ('clf', SGDClassifier(loss='hinge', penalty='l2', random_state=42,max_iter=5, tol=None))\n",
    "])\n",
    "\n",
    "sgd_tfidf_clf = GridSearchCV(sgd_tfidf, param_grid, cv=5, n_jobs=-1)\n",
    "sgd_tfidf_clf = sgd_tfidf_clf.fit(train_X, train_y)\n",
    "for param_name in sorted(param_grid.keys()):\n",
    "    print(\"%s: %r\" % (param_name, sgd_tf_clf.best_params_[param_name]))\n",
    "    \n",
    "sgd_tfidf.fit(train_X, train_y)\n",
    "predicted = sgd_tfidf.predict(test_X)\n",
    "df_accuracy.loc['SGDClassifier', 'tf-idf'] = np.mean(predicted == test_y)"
   ]
  },
  {
   "cell_type": "code",
   "execution_count": 16,
   "id": "cda17e39",
   "metadata": {},
   "outputs": [
    {
     "name": "stdout",
     "output_type": "stream",
     "text": [
      "                          precision    recall  f1-score   support\n",
      "\n",
      "             alt.atheism       0.83      0.76      0.79       319\n",
      "           comp.graphics       0.75      0.81      0.78       389\n",
      " comp.os.ms-windows.misc       0.76      0.72      0.74       394\n",
      "comp.sys.ibm.pc.hardware       0.74      0.73      0.74       392\n",
      "   comp.sys.mac.hardware       0.83      0.86      0.85       385\n",
      "          comp.windows.x       0.88      0.76      0.82       395\n",
      "            misc.forsale       0.84      0.90      0.87       390\n",
      "               rec.autos       0.91      0.90      0.91       396\n",
      "         rec.motorcycles       0.95      0.95      0.95       398\n",
      "      rec.sport.baseball       0.90      0.96      0.93       397\n",
      "        rec.sport.hockey       0.96      0.98      0.97       399\n",
      "               sci.crypt       0.91      0.95      0.93       396\n",
      "         sci.electronics       0.82      0.80      0.81       393\n",
      "                 sci.med       0.89      0.88      0.89       396\n",
      "               sci.space       0.90      0.95      0.92       394\n",
      "  soc.religion.christian       0.84      0.93      0.88       398\n",
      "      talk.politics.guns       0.74      0.91      0.82       364\n",
      "   talk.politics.mideast       0.95      0.93      0.94       376\n",
      "      talk.politics.misc       0.89      0.61      0.72       310\n",
      "      talk.religion.misc       0.73      0.59      0.65       251\n",
      "\n",
      "                accuracy                           0.85      7532\n",
      "               macro avg       0.85      0.84      0.85      7532\n",
      "            weighted avg       0.85      0.85      0.85      7532\n",
      "\n"
     ]
    }
   ],
   "source": [
    ">>> print(metrics.classification_report(test_y, predicted,\n",
    "...     target_names=test.target_names))"
   ]
  },
  {
   "cell_type": "markdown",
   "id": "e15e8f8b",
   "metadata": {},
   "source": [
    "# LinearSVC"
   ]
  },
  {
   "cell_type": "markdown",
   "id": "99e68f54",
   "metadata": {},
   "source": [
    "## count"
   ]
  },
  {
   "cell_type": "code",
   "execution_count": 22,
   "id": "c424e7d8",
   "metadata": {},
   "outputs": [
    {
     "name": "stdout",
     "output_type": "stream",
     "text": [
      "classification__C: 0.01\n"
     ]
    }
   ],
   "source": [
    "svc_count = Pipeline([\n",
    "    ('vect', CountVectorizer()),\n",
    "#     ('feature_selection', SelectFromModel(LinearSVC(penalty=\"l1\", dual=False, tol=1e-3, max_iter=50000))),\n",
    "    ('classification', LinearSVC(penalty=\"l2\", max_iter=50000))\n",
    "])\n",
    "\n",
    "param_grid = {\n",
    "    'classification__C': [0.001, 0.01],\n",
    "}\n",
    "\n",
    "svc_count_clf = GridSearchCV(svc_count, param_grid, cv=5, n_jobs=-1)\n",
    "svc_count_clf = svc_count_clf.fit(train_X, train_y)\n",
    "for param_name in sorted(param_grid.keys()):\n",
    "    print(\"%s: %r\" % (param_name, svc_count_clf.best_params_[param_name]))\n",
    "    \n",
    "predicted = svc_count_clf.predict(test_X)\n",
    "df_accuracy.loc['LinearSVC', 'counts'] = np.mean(predicted == test_y)"
   ]
  },
  {
   "cell_type": "code",
   "execution_count": 23,
   "id": "6f3a49a9",
   "metadata": {},
   "outputs": [
    {
     "name": "stdout",
     "output_type": "stream",
     "text": [
      "                          precision    recall  f1-score   support\n",
      "\n",
      "             alt.atheism       0.76      0.76      0.76       319\n",
      "           comp.graphics       0.69      0.77      0.73       389\n",
      " comp.os.ms-windows.misc       0.74      0.69      0.72       394\n",
      "comp.sys.ibm.pc.hardware       0.69      0.70      0.69       392\n",
      "   comp.sys.mac.hardware       0.77      0.82      0.79       385\n",
      "          comp.windows.x       0.84      0.72      0.77       395\n",
      "            misc.forsale       0.80      0.91      0.85       390\n",
      "               rec.autos       0.87      0.86      0.87       396\n",
      "         rec.motorcycles       0.94      0.94      0.94       398\n",
      "      rec.sport.baseball       0.88      0.90      0.89       397\n",
      "        rec.sport.hockey       0.93      0.96      0.94       399\n",
      "               sci.crypt       0.92      0.91      0.92       396\n",
      "         sci.electronics       0.73      0.75      0.74       393\n",
      "                 sci.med       0.88      0.80      0.84       396\n",
      "               sci.space       0.92      0.91      0.91       394\n",
      "  soc.religion.christian       0.83      0.92      0.87       398\n",
      "      talk.politics.guns       0.74      0.88      0.80       364\n",
      "   talk.politics.mideast       0.93      0.84      0.88       376\n",
      "      talk.politics.misc       0.77      0.54      0.64       310\n",
      "      talk.religion.misc       0.65      0.62      0.63       251\n",
      "\n",
      "                accuracy                           0.82      7532\n",
      "               macro avg       0.81      0.81      0.81      7532\n",
      "            weighted avg       0.82      0.82      0.82      7532\n",
      "\n"
     ]
    }
   ],
   "source": [
    ">>> print(metrics.classification_report(test_y, predicted,\n",
    "...     target_names=test.target_names))"
   ]
  },
  {
   "cell_type": "markdown",
   "id": "b435dc1b",
   "metadata": {},
   "source": [
    "## tf"
   ]
  },
  {
   "cell_type": "code",
   "execution_count": 24,
   "id": "e6ec22d4",
   "metadata": {},
   "outputs": [
    {
     "name": "stdout",
     "output_type": "stream",
     "text": [
      "classification__C: 0.01\n"
     ]
    }
   ],
   "source": [
    "svm_tf = Pipeline([\n",
    "    ('vect', CountVectorizer()),\n",
    "    ('tf', TfidfTransformer(use_idf=False)),\n",
    "#         ('feature_selection', SelectFromModel(LinearSVC(penalty=\"l1\", dual=False, tol=1e-3, max_iter=50000))),\n",
    "    ('classification', LinearSVC(penalty=\"l2\", max_iter=50000))\n",
    "])\n",
    "\n",
    "svc_tf_clf = GridSearchCV(svm_tf, param_grid, cv=5, n_jobs=-1)\n",
    "svc_tf_clf = svc_tf_clf.fit(train_X, train_y)\n",
    "for param_name in sorted(param_grid.keys()):\n",
    "    print(\"%s: %r\" % (param_name, svc_tf_clf.best_params_[param_name]))\n",
    "    \n",
    "predicted = svc_tf_clf.predict(test_X)\n",
    "df_accuracy.loc['LinearSVC', 'tf'] = np.mean(predicted == test_y)"
   ]
  },
  {
   "cell_type": "code",
   "execution_count": 25,
   "id": "63c34bc4",
   "metadata": {},
   "outputs": [
    {
     "name": "stdout",
     "output_type": "stream",
     "text": [
      "                          precision    recall  f1-score   support\n",
      "\n",
      "             alt.atheism       0.54      0.42      0.48       319\n",
      "           comp.graphics       0.60      0.51      0.55       389\n",
      " comp.os.ms-windows.misc       0.66      0.64      0.65       394\n",
      "comp.sys.ibm.pc.hardware       0.67      0.55      0.60       392\n",
      "   comp.sys.mac.hardware       0.72      0.56      0.63       385\n",
      "          comp.windows.x       0.64      0.63      0.63       395\n",
      "            misc.forsale       0.42      0.92      0.58       390\n",
      "               rec.autos       0.82      0.66      0.73       396\n",
      "         rec.motorcycles       0.70      0.81      0.75       398\n",
      "      rec.sport.baseball       0.58      0.72      0.64       397\n",
      "        rec.sport.hockey       0.71      0.84      0.77       399\n",
      "               sci.crypt       0.71      0.80      0.75       396\n",
      "         sci.electronics       0.73      0.25      0.37       393\n",
      "                 sci.med       0.62      0.49      0.55       396\n",
      "               sci.space       0.81      0.75      0.78       394\n",
      "  soc.religion.christian       0.47      0.83      0.60       398\n",
      "      talk.politics.guns       0.60      0.67      0.64       364\n",
      "   talk.politics.mideast       0.63      0.78      0.70       376\n",
      "      talk.politics.misc       0.88      0.29      0.43       310\n",
      "      talk.religion.misc       0.74      0.08      0.14       251\n",
      "\n",
      "                accuracy                           0.63      7532\n",
      "               macro avg       0.66      0.61      0.60      7532\n",
      "            weighted avg       0.66      0.63      0.61      7532\n",
      "\n"
     ]
    }
   ],
   "source": [
    ">>> print(metrics.classification_report(test_y, predicted,\n",
    "...     target_names=test.target_names))"
   ]
  },
  {
   "cell_type": "markdown",
   "id": "5a3d7548",
   "metadata": {},
   "source": [
    "## tf-idf"
   ]
  },
  {
   "cell_type": "code",
   "execution_count": 29,
   "id": "e03712ea",
   "metadata": {},
   "outputs": [
    {
     "name": "stdout",
     "output_type": "stream",
     "text": [
      "classification__C: 0.01\n"
     ]
    }
   ],
   "source": [
    "svm_tfidf = Pipeline([\n",
    "    ('vect', CountVectorizer()),\n",
    "    ('tf', TfidfTransformer()),\n",
    "#         ('feature_selection', SelectFromModel(LinearSVC(penalty=\"l1\", dual=False, tol=1e-3, max_iter=50000))),\n",
    "    ('classification', LinearSVC(penalty=\"l2\", max_iter=50000))\n",
    "])\n",
    "svc_tfidf_clf = GridSearchCV(svm_tfidf, param_grid, cv=5, n_jobs=-1)\n",
    "svc_tfidf_clf = svc_tfidf_clf.fit(train_X, train_y)\n",
    "for param_name in sorted(param_grid.keys()):\n",
    "    print(\"%s: %r\" % (param_name, svc_tfidf_clf.best_params_[param_name]))\n",
    "predicted = svc_tfidf_clf.predict(test_X)\n",
    "df_accuracy.loc['LinearSVC', 'tf-idf'] = np.mean(predicted == test_y)"
   ]
  },
  {
   "cell_type": "code",
   "execution_count": 30,
   "id": "b2febeb5",
   "metadata": {},
   "outputs": [
    {
     "name": "stdout",
     "output_type": "stream",
     "text": [
      "                          precision    recall  f1-score   support\n",
      "\n",
      "             alt.atheism       0.74      0.61      0.67       319\n",
      "           comp.graphics       0.73      0.71      0.72       389\n",
      " comp.os.ms-windows.misc       0.70      0.80      0.75       394\n",
      "comp.sys.ibm.pc.hardware       0.72      0.69      0.71       392\n",
      "   comp.sys.mac.hardware       0.82      0.74      0.77       385\n",
      "          comp.windows.x       0.78      0.73      0.76       395\n",
      "            misc.forsale       0.58      0.92      0.71       390\n",
      "               rec.autos       0.90      0.85      0.88       396\n",
      "         rec.motorcycles       0.91      0.94      0.92       398\n",
      "      rec.sport.baseball       0.87      0.88      0.87       397\n",
      "        rec.sport.hockey       0.88      0.97      0.92       399\n",
      "               sci.crypt       0.86      0.91      0.88       396\n",
      "         sci.electronics       0.83      0.53      0.65       393\n",
      "                 sci.med       0.90      0.72      0.80       396\n",
      "               sci.space       0.84      0.92      0.87       394\n",
      "  soc.religion.christian       0.62      0.93      0.75       398\n",
      "      talk.politics.guns       0.67      0.88      0.76       364\n",
      "   talk.politics.mideast       0.92      0.89      0.91       376\n",
      "      talk.politics.misc       0.92      0.50      0.64       310\n",
      "      talk.religion.misc       0.88      0.25      0.39       251\n",
      "\n",
      "                accuracy                           0.78      7532\n",
      "               macro avg       0.80      0.77      0.77      7532\n",
      "            weighted avg       0.80      0.78      0.78      7532\n",
      "\n"
     ]
    }
   ],
   "source": [
    ">>> print(metrics.classification_report(test_y, predicted,\n",
    "...     target_names=test.target_names))"
   ]
  },
  {
   "cell_type": "code",
   "execution_count": 31,
   "id": "cf70bb84",
   "metadata": {},
   "outputs": [
    {
     "data": {
      "text/html": [
       "<div>\n",
       "<style scoped>\n",
       "    .dataframe tbody tr th:only-of-type {\n",
       "        vertical-align: middle;\n",
       "    }\n",
       "\n",
       "    .dataframe tbody tr th {\n",
       "        vertical-align: top;\n",
       "    }\n",
       "\n",
       "    .dataframe thead th {\n",
       "        text-align: right;\n",
       "    }\n",
       "</style>\n",
       "<table border=\"1\" class=\"dataframe\">\n",
       "  <thead>\n",
       "    <tr style=\"text-align: right;\">\n",
       "      <th></th>\n",
       "      <th>counts</th>\n",
       "      <th>tf</th>\n",
       "      <th>tf-idf</th>\n",
       "    </tr>\n",
       "  </thead>\n",
       "  <tbody>\n",
       "    <tr>\n",
       "      <th>MultinomialNB</th>\n",
       "      <td>0.80616</td>\n",
       "      <td>0.807886</td>\n",
       "      <td>0.828332</td>\n",
       "    </tr>\n",
       "    <tr>\n",
       "      <th>LinearSVC</th>\n",
       "      <td>0.817047</td>\n",
       "      <td>0.62573</td>\n",
       "      <td>0.782926</td>\n",
       "    </tr>\n",
       "    <tr>\n",
       "      <th>SGDClassifier</th>\n",
       "      <td>0.752124</td>\n",
       "      <td>0.769782</td>\n",
       "      <td>0.853027</td>\n",
       "    </tr>\n",
       "  </tbody>\n",
       "</table>\n",
       "</div>"
      ],
      "text/plain": [
       "                 counts        tf    tf-idf\n",
       "MultinomialNB   0.80616  0.807886  0.828332\n",
       "LinearSVC      0.817047   0.62573  0.782926\n",
       "SGDClassifier  0.752124  0.769782  0.853027"
      ]
     },
     "execution_count": 31,
     "metadata": {},
     "output_type": "execute_result"
    }
   ],
   "source": [
    "df_accuracy"
   ]
  },
  {
   "cell_type": "markdown",
   "id": "6b02b58e",
   "metadata": {},
   "source": [
    "# SGDClassifier with tf-idf"
   ]
  },
  {
   "cell_type": "markdown",
   "id": "018f600c",
   "metadata": {},
   "source": [
    "## Lowercasing  == true , stop_words=None is defalut"
   ]
  },
  {
   "cell_type": "markdown",
   "id": "ee36a098",
   "metadata": {},
   "source": [
    "## Lowercasing == false "
   ]
  },
  {
   "cell_type": "code",
   "execution_count": 32,
   "id": "c8e241df",
   "metadata": {},
   "outputs": [
    {
     "data": {
      "text/plain": [
       "0.822623473181094"
      ]
     },
     "execution_count": 32,
     "metadata": {},
     "output_type": "execute_result"
    }
   ],
   "source": [
    "sgd_tfidf = Pipeline([\n",
    "    ('vect', CountVectorizer(lowercase=False)),\n",
    "    ('tf', TfidfTransformer()),\n",
    "    ('clf', SGDClassifier(alpha=.001,loss='hinge', penalty='l2', random_state=42,max_iter=5, tol=None))\n",
    "])\n",
    "sgd_tfidf.fit(train_X, train_y)\n",
    "predicted = sgd_tfidf.predict(test_X)\n",
    "np.mean(predicted == test_y)"
   ]
  },
  {
   "cell_type": "code",
   "execution_count": 33,
   "id": "ad4eb884",
   "metadata": {},
   "outputs": [
    {
     "name": "stdout",
     "output_type": "stream",
     "text": [
      "                          precision    recall  f1-score   support\n",
      "\n",
      "             alt.atheism       0.74      0.73      0.74       319\n",
      "           comp.graphics       0.76      0.73      0.75       389\n",
      " comp.os.ms-windows.misc       0.74      0.75      0.75       394\n",
      "comp.sys.ibm.pc.hardware       0.72      0.69      0.71       392\n",
      "   comp.sys.mac.hardware       0.83      0.81      0.82       385\n",
      "          comp.windows.x       0.85      0.78      0.81       395\n",
      "            misc.forsale       0.82      0.88      0.85       390\n",
      "               rec.autos       0.89      0.91      0.90       396\n",
      "         rec.motorcycles       0.93      0.96      0.94       398\n",
      "      rec.sport.baseball       0.86      0.90      0.88       397\n",
      "        rec.sport.hockey       0.86      0.99      0.92       399\n",
      "               sci.crypt       0.83      0.96      0.89       396\n",
      "         sci.electronics       0.83      0.61      0.70       393\n",
      "                 sci.med       0.88      0.85      0.87       396\n",
      "               sci.space       0.85      0.95      0.90       394\n",
      "  soc.religion.christian       0.77      0.93      0.84       398\n",
      "      talk.politics.guns       0.70      0.91      0.80       364\n",
      "   talk.politics.mideast       0.89      0.93      0.91       376\n",
      "      talk.politics.misc       0.89      0.55      0.68       310\n",
      "      talk.religion.misc       0.88      0.41      0.56       251\n",
      "\n",
      "                accuracy                           0.82      7532\n",
      "               macro avg       0.83      0.81      0.81      7532\n",
      "            weighted avg       0.83      0.82      0.82      7532\n",
      "\n"
     ]
    }
   ],
   "source": [
    ">>> print(metrics.classification_report(test_y, predicted,\n",
    "...     target_names=test.target_names))"
   ]
  },
  {
   "cell_type": "markdown",
   "id": "ea8c6c9f",
   "metadata": {},
   "source": [
    "## stop_words"
   ]
  },
  {
   "cell_type": "code",
   "execution_count": 34,
   "id": "50d048e1",
   "metadata": {},
   "outputs": [
    {
     "data": {
      "text/plain": [
       "0.8224907063197026"
      ]
     },
     "execution_count": 34,
     "metadata": {},
     "output_type": "execute_result"
    }
   ],
   "source": [
    "sgd_tfidf = Pipeline([\n",
    "    ('vect', CountVectorizer(stop_words='english')),\n",
    "    ('tf', TfidfTransformer()),\n",
    "    ('clf', SGDClassifier(alpha=.001,loss='hinge', penalty='l2', random_state=42,max_iter=5, tol=None))\n",
    "])\n",
    "sgd_tfidf.fit(train_X, train_y)\n",
    "predicted = sgd_tfidf.predict(test_X)\n",
    "np.mean(predicted == test_y)"
   ]
  },
  {
   "cell_type": "code",
   "execution_count": 35,
   "id": "caa944d2",
   "metadata": {},
   "outputs": [
    {
     "name": "stdout",
     "output_type": "stream",
     "text": [
      "                          precision    recall  f1-score   support\n",
      "\n",
      "             alt.atheism       0.72      0.70      0.71       319\n",
      "           comp.graphics       0.79      0.70      0.74       389\n",
      " comp.os.ms-windows.misc       0.73      0.79      0.76       394\n",
      "comp.sys.ibm.pc.hardware       0.72      0.68      0.70       392\n",
      "   comp.sys.mac.hardware       0.81      0.83      0.82       385\n",
      "          comp.windows.x       0.86      0.76      0.81       395\n",
      "            misc.forsale       0.82      0.87      0.84       390\n",
      "               rec.autos       0.92      0.89      0.91       396\n",
      "         rec.motorcycles       0.93      0.97      0.95       398\n",
      "      rec.sport.baseball       0.89      0.91      0.90       397\n",
      "        rec.sport.hockey       0.87      0.98      0.92       399\n",
      "               sci.crypt       0.85      0.96      0.90       396\n",
      "         sci.electronics       0.81      0.61      0.69       393\n",
      "                 sci.med       0.90      0.86      0.88       396\n",
      "               sci.space       0.84      0.96      0.90       394\n",
      "  soc.religion.christian       0.73      0.93      0.82       398\n",
      "      talk.politics.guns       0.70      0.93      0.80       364\n",
      "   talk.politics.mideast       0.92      0.93      0.92       376\n",
      "      talk.politics.misc       0.90      0.55      0.69       310\n",
      "      talk.religion.misc       0.80      0.39      0.52       251\n",
      "\n",
      "                accuracy                           0.82      7532\n",
      "               macro avg       0.82      0.81      0.81      7532\n",
      "            weighted avg       0.83      0.82      0.82      7532\n",
      "\n"
     ]
    }
   ],
   "source": [
    ">>> print(metrics.classification_report(test_y, predicted,\n",
    "...     target_names=test.target_names))"
   ]
  },
  {
   "cell_type": "code",
   "execution_count": 36,
   "id": "c065c6b9",
   "metadata": {},
   "outputs": [
    {
     "data": {
      "text/plain": [
       "0.8321826872012745"
      ]
     },
     "execution_count": 36,
     "metadata": {},
     "output_type": "execute_result"
    }
   ],
   "source": [
    "sgd_tfidf = Pipeline([\n",
    "    ('vect', CountVectorizer(stop_words='english', ngram_range=(1, 2), analyzer='word')),\n",
    "    ('tf', TfidfTransformer()),\n",
    "    ('clf', SGDClassifier(alpha=.001,loss='hinge', penalty='l2', random_state=42,max_iter=5, tol=None))\n",
    "])\n",
    "sgd_tfidf.fit(train_X, train_y)\n",
    "predicted = sgd_tfidf.predict(test_X)\n",
    "np.mean(predicted == test_y)"
   ]
  },
  {
   "cell_type": "code",
   "execution_count": 37,
   "id": "3cb5e9e0",
   "metadata": {},
   "outputs": [
    {
     "name": "stdout",
     "output_type": "stream",
     "text": [
      "                          precision    recall  f1-score   support\n",
      "\n",
      "             alt.atheism       0.75      0.75      0.75       319\n",
      "           comp.graphics       0.79      0.71      0.75       389\n",
      " comp.os.ms-windows.misc       0.75      0.80      0.77       394\n",
      "comp.sys.ibm.pc.hardware       0.74      0.69      0.71       392\n",
      "   comp.sys.mac.hardware       0.84      0.82      0.83       385\n",
      "          comp.windows.x       0.87      0.78      0.82       395\n",
      "            misc.forsale       0.85      0.86      0.86       390\n",
      "               rec.autos       0.93      0.89      0.91       396\n",
      "         rec.motorcycles       0.93      0.97      0.95       398\n",
      "      rec.sport.baseball       0.88      0.90      0.89       397\n",
      "        rec.sport.hockey       0.86      0.99      0.92       399\n",
      "               sci.crypt       0.81      0.97      0.88       396\n",
      "         sci.electronics       0.82      0.65      0.72       393\n",
      "                 sci.med       0.90      0.83      0.86       396\n",
      "               sci.space       0.83      0.96      0.89       394\n",
      "  soc.religion.christian       0.79      0.94      0.86       398\n",
      "      talk.politics.guns       0.72      0.93      0.81       364\n",
      "   talk.politics.mideast       0.91      0.94      0.93       376\n",
      "      talk.politics.misc       0.87      0.60      0.71       310\n",
      "      talk.religion.misc       0.84      0.47      0.60       251\n",
      "\n",
      "                accuracy                           0.83      7532\n",
      "               macro avg       0.83      0.82      0.82      7532\n",
      "            weighted avg       0.83      0.83      0.83      7532\n",
      "\n"
     ]
    }
   ],
   "source": [
    ">>> print(metrics.classification_report(test_y, predicted,\n",
    "...     target_names=test.target_names))"
   ]
  },
  {
   "cell_type": "code",
   "execution_count": 38,
   "id": "52d59df9",
   "metadata": {},
   "outputs": [
    {
     "data": {
      "text/plain": [
       "0.829660116834838"
      ]
     },
     "execution_count": 38,
     "metadata": {},
     "output_type": "execute_result"
    }
   ],
   "source": [
    "sgd_tfidf = Pipeline([\n",
    "    ('vect', CountVectorizer(stop_words='english', ngram_range=(1, 3), analyzer='word')),\n",
    "    ('tf', TfidfTransformer()),\n",
    "    ('clf', SGDClassifier(alpha=.001,loss='hinge', penalty='l2', random_state=42,max_iter=5, tol=None))\n",
    "])\n",
    "sgd_tfidf.fit(train_X, train_y)\n",
    "predicted = sgd_tfidf.predict(test_X)\n",
    "np.mean(predicted == test_y)"
   ]
  },
  {
   "cell_type": "code",
   "execution_count": 39,
   "id": "b5fff0f8",
   "metadata": {},
   "outputs": [
    {
     "name": "stdout",
     "output_type": "stream",
     "text": [
      "                          precision    recall  f1-score   support\n",
      "\n",
      "             alt.atheism       0.75      0.76      0.75       319\n",
      "           comp.graphics       0.79      0.72      0.75       389\n",
      " comp.os.ms-windows.misc       0.77      0.79      0.78       394\n",
      "comp.sys.ibm.pc.hardware       0.71      0.69      0.70       392\n",
      "   comp.sys.mac.hardware       0.83      0.81      0.82       385\n",
      "          comp.windows.x       0.85      0.77      0.81       395\n",
      "            misc.forsale       0.85      0.85      0.85       390\n",
      "               rec.autos       0.92      0.89      0.91       396\n",
      "         rec.motorcycles       0.94      0.97      0.95       398\n",
      "      rec.sport.baseball       0.88      0.89      0.88       397\n",
      "        rec.sport.hockey       0.84      0.98      0.91       399\n",
      "               sci.crypt       0.80      0.97      0.88       396\n",
      "         sci.electronics       0.84      0.62      0.71       393\n",
      "                 sci.med       0.89      0.82      0.85       396\n",
      "               sci.space       0.84      0.96      0.89       394\n",
      "  soc.religion.christian       0.81      0.94      0.87       398\n",
      "      talk.politics.guns       0.72      0.92      0.81       364\n",
      "   talk.politics.mideast       0.91      0.94      0.93       376\n",
      "      talk.politics.misc       0.85      0.61      0.71       310\n",
      "      talk.religion.misc       0.83      0.51      0.63       251\n",
      "\n",
      "                accuracy                           0.83      7532\n",
      "               macro avg       0.83      0.82      0.82      7532\n",
      "            weighted avg       0.83      0.83      0.83      7532\n",
      "\n"
     ]
    }
   ],
   "source": [
    ">>> print(metrics.classification_report(test_y, predicted,\n",
    "...     target_names=test.target_names))"
   ]
  },
  {
   "cell_type": "code",
   "execution_count": 40,
   "id": "ff5e8743",
   "metadata": {},
   "outputs": [
    {
     "data": {
      "text/plain": [
       "0.13502389803505044"
      ]
     },
     "execution_count": 40,
     "metadata": {},
     "output_type": "execute_result"
    }
   ],
   "source": [
    "sgd_tfidf = Pipeline([\n",
    "    ('vect', CountVectorizer(ngram_range=(1, 1), analyzer='char')),\n",
    "    ('tf', TfidfTransformer()),\n",
    "    ('clf', SGDClassifier(alpha=.001,loss='hinge', penalty='l2', random_state=42,max_iter=5, tol=None))\n",
    "])\n",
    "sgd_tfidf.fit(train_X, train_y)\n",
    "predicted = sgd_tfidf.predict(test_X)\n",
    "np.mean(predicted == test_y)"
   ]
  },
  {
   "cell_type": "code",
   "execution_count": 41,
   "id": "3f15f203",
   "metadata": {},
   "outputs": [
    {
     "name": "stdout",
     "output_type": "stream",
     "text": [
      "                          precision    recall  f1-score   support\n",
      "\n",
      "             alt.atheism       0.14      0.03      0.05       319\n",
      "           comp.graphics       0.06      0.79      0.11       389\n",
      " comp.os.ms-windows.misc       0.13      0.07      0.09       394\n",
      "comp.sys.ibm.pc.hardware       0.43      0.14      0.21       392\n",
      "   comp.sys.mac.hardware       0.16      0.02      0.04       385\n",
      "          comp.windows.x       0.57      0.19      0.28       395\n",
      "            misc.forsale       0.62      0.56      0.59       390\n",
      "               rec.autos       0.00      0.00      0.00       396\n",
      "         rec.motorcycles       0.31      0.10      0.15       398\n",
      "      rec.sport.baseball       0.34      0.06      0.10       397\n",
      "        rec.sport.hockey       0.25      0.21      0.22       399\n",
      "               sci.crypt       0.55      0.03      0.06       396\n",
      "         sci.electronics       1.00      0.00      0.00       393\n",
      "                 sci.med       0.08      0.02      0.03       396\n",
      "               sci.space       0.11      0.06      0.08       394\n",
      "  soc.religion.christian       0.68      0.03      0.06       398\n",
      "      talk.politics.guns       0.23      0.20      0.21       364\n",
      "   talk.politics.mideast       0.82      0.10      0.18       376\n",
      "      talk.politics.misc       1.00      0.00      0.00       310\n",
      "      talk.religion.misc       1.00      0.00      0.00       251\n",
      "\n",
      "                accuracy                           0.14      7532\n",
      "               macro avg       0.42      0.13      0.12      7532\n",
      "            weighted avg       0.41      0.14      0.13      7532\n",
      "\n"
     ]
    }
   ],
   "source": [
    ">>> print(metrics.classification_report(test_y, predicted,\n",
    "...     target_names=test.target_names, zero_division=1))"
   ]
  },
  {
   "cell_type": "code",
   "execution_count": 42,
   "id": "3d708583",
   "metadata": {},
   "outputs": [
    {
     "data": {
      "text/plain": [
       "0.6216144450345193"
      ]
     },
     "execution_count": 42,
     "metadata": {},
     "output_type": "execute_result"
    }
   ],
   "source": [
    "sgd_tfidf = Pipeline([\n",
    "    ('vect', CountVectorizer(ngram_range=(2, 2), analyzer='char')),\n",
    "    ('tf', TfidfTransformer()),\n",
    "    ('clf', SGDClassifier(alpha=.001,loss='hinge', penalty='l2', random_state=42,max_iter=5, tol=None))\n",
    "])\n",
    "sgd_tfidf.fit(train_X, train_y)\n",
    "predicted = sgd_tfidf.predict(test_X)\n",
    "np.mean(predicted == test_y)"
   ]
  },
  {
   "cell_type": "code",
   "execution_count": 43,
   "id": "44b26233",
   "metadata": {},
   "outputs": [
    {
     "name": "stdout",
     "output_type": "stream",
     "text": [
      "                          precision    recall  f1-score   support\n",
      "\n",
      "             alt.atheism       0.64      0.50      0.56       319\n",
      "           comp.graphics       0.27      0.68      0.38       389\n",
      " comp.os.ms-windows.misc       0.70      0.50      0.58       394\n",
      "comp.sys.ibm.pc.hardware       0.63      0.51      0.56       392\n",
      "   comp.sys.mac.hardware       0.72      0.51      0.60       385\n",
      "          comp.windows.x       0.65      0.90      0.75       395\n",
      "            misc.forsale       0.69      0.81      0.74       390\n",
      "               rec.autos       0.56      0.59      0.57       396\n",
      "         rec.motorcycles       0.81      0.74      0.77       398\n",
      "      rec.sport.baseball       0.61      0.75      0.67       397\n",
      "        rec.sport.hockey       0.76      0.80      0.78       399\n",
      "               sci.crypt       0.65      0.85      0.73       396\n",
      "         sci.electronics       0.67      0.24      0.35       393\n",
      "                 sci.med       0.69      0.35      0.47       396\n",
      "               sci.space       0.77      0.69      0.73       394\n",
      "  soc.religion.christian       0.78      0.70      0.74       398\n",
      "      talk.politics.guns       0.63      0.71      0.67       364\n",
      "   talk.politics.mideast       0.61      0.83      0.70       376\n",
      "      talk.politics.misc       0.72      0.35      0.47       310\n",
      "      talk.religion.misc       0.66      0.21      0.32       251\n",
      "\n",
      "                accuracy                           0.62      7532\n",
      "               macro avg       0.66      0.61      0.61      7532\n",
      "            weighted avg       0.66      0.62      0.62      7532\n",
      "\n"
     ]
    }
   ],
   "source": [
    ">>> print(metrics.classification_report(test_y, predicted,\n",
    "...     target_names=test.target_names, zero_division=1))"
   ]
  },
  {
   "cell_type": "code",
   "execution_count": 44,
   "id": "f2d91b3b",
   "metadata": {},
   "outputs": [
    {
     "data": {
      "text/plain": [
       "0.781465746149761"
      ]
     },
     "execution_count": 44,
     "metadata": {},
     "output_type": "execute_result"
    }
   ],
   "source": [
    "sgd_tfidf = Pipeline([\n",
    "    ('vect', CountVectorizer(ngram_range=(3, 3), analyzer='char')),\n",
    "    ('tf', TfidfTransformer()),\n",
    "    ('clf', SGDClassifier(alpha=.001,loss='hinge', penalty='l2', random_state=42,max_iter=5, tol=None))\n",
    "])\n",
    "sgd_tfidf.fit(train_X, train_y)\n",
    "predicted = sgd_tfidf.predict(test_X)\n",
    "np.mean(predicted == test_y)"
   ]
  },
  {
   "cell_type": "code",
   "execution_count": 45,
   "id": "cccc2d3f",
   "metadata": {},
   "outputs": [
    {
     "name": "stdout",
     "output_type": "stream",
     "text": [
      "                          precision    recall  f1-score   support\n",
      "\n",
      "             alt.atheism       0.68      0.65      0.67       319\n",
      "           comp.graphics       0.64      0.76      0.70       389\n",
      " comp.os.ms-windows.misc       0.80      0.70      0.74       394\n",
      "comp.sys.ibm.pc.hardware       0.71      0.65      0.68       392\n",
      "   comp.sys.mac.hardware       0.80      0.77      0.79       385\n",
      "          comp.windows.x       0.82      0.85      0.83       395\n",
      "            misc.forsale       0.81      0.86      0.83       390\n",
      "               rec.autos       0.85      0.78      0.81       396\n",
      "         rec.motorcycles       0.91      0.89      0.90       398\n",
      "      rec.sport.baseball       0.75      0.84      0.80       397\n",
      "        rec.sport.hockey       0.81      0.96      0.88       399\n",
      "               sci.crypt       0.78      0.94      0.85       396\n",
      "         sci.electronics       0.83      0.51      0.63       393\n",
      "                 sci.med       0.86      0.72      0.79       396\n",
      "               sci.space       0.82      0.90      0.86       394\n",
      "  soc.religion.christian       0.72      0.93      0.81       398\n",
      "      talk.politics.guns       0.69      0.88      0.78       364\n",
      "   talk.politics.mideast       0.82      0.93      0.87       376\n",
      "      talk.politics.misc       0.81      0.55      0.65       310\n",
      "      talk.religion.misc       0.73      0.33      0.45       251\n",
      "\n",
      "                accuracy                           0.78      7532\n",
      "               macro avg       0.78      0.77      0.77      7532\n",
      "            weighted avg       0.79      0.78      0.77      7532\n",
      "\n"
     ]
    }
   ],
   "source": [
    ">>> print(metrics.classification_report(test_y, predicted,\n",
    "...     target_names=test.target_names, zero_division=1))"
   ]
  },
  {
   "cell_type": "code",
   "execution_count": 46,
   "id": "bf930c14",
   "metadata": {},
   "outputs": [
    {
     "data": {
      "text/plain": [
       "0.8139936271906533"
      ]
     },
     "execution_count": 46,
     "metadata": {},
     "output_type": "execute_result"
    }
   ],
   "source": [
    "sgd_tfidf = Pipeline([\n",
    "    ('vect', CountVectorizer(ngram_range=(4, 4), analyzer='char')),\n",
    "    ('tf', TfidfTransformer()),\n",
    "    ('clf', SGDClassifier(alpha=.001,loss='hinge', penalty='l2', random_state=42,max_iter=5, tol=None))\n",
    "])\n",
    "sgd_tfidf.fit(train_X, train_y)\n",
    "predicted = sgd_tfidf.predict(test_X)\n",
    "np.mean(predicted == test_y)"
   ]
  },
  {
   "cell_type": "code",
   "execution_count": 47,
   "id": "f7bdbc7b",
   "metadata": {},
   "outputs": [
    {
     "name": "stdout",
     "output_type": "stream",
     "text": [
      "                          precision    recall  f1-score   support\n",
      "\n",
      "             alt.atheism       0.70      0.71      0.71       319\n",
      "           comp.graphics       0.67      0.77      0.72       389\n",
      " comp.os.ms-windows.misc       0.80      0.73      0.76       394\n",
      "comp.sys.ibm.pc.hardware       0.80      0.67      0.72       392\n",
      "   comp.sys.mac.hardware       0.86      0.81      0.84       385\n",
      "          comp.windows.x       0.84      0.82      0.83       395\n",
      "            misc.forsale       0.82      0.89      0.85       390\n",
      "               rec.autos       0.92      0.84      0.88       396\n",
      "         rec.motorcycles       0.92      0.92      0.92       398\n",
      "      rec.sport.baseball       0.82      0.89      0.86       397\n",
      "        rec.sport.hockey       0.86      0.97      0.91       399\n",
      "               sci.crypt       0.79      0.96      0.86       396\n",
      "         sci.electronics       0.84      0.59      0.69       393\n",
      "                 sci.med       0.87      0.81      0.84       396\n",
      "               sci.space       0.85      0.95      0.90       394\n",
      "  soc.religion.christian       0.75      0.94      0.84       398\n",
      "      talk.politics.guns       0.71      0.91      0.80       364\n",
      "   talk.politics.mideast       0.85      0.93      0.89       376\n",
      "      talk.politics.misc       0.85      0.56      0.68       310\n",
      "      talk.religion.misc       0.82      0.37      0.51       251\n",
      "\n",
      "                accuracy                           0.81      7532\n",
      "               macro avg       0.82      0.80      0.80      7532\n",
      "            weighted avg       0.82      0.81      0.81      7532\n",
      "\n"
     ]
    }
   ],
   "source": [
    ">>> print(metrics.classification_report(test_y, predicted,\n",
    "...     target_names=test.target_names, zero_division=1))"
   ]
  },
  {
   "cell_type": "code",
   "execution_count": 48,
   "id": "14f71ca6",
   "metadata": {},
   "outputs": [
    {
     "data": {
      "text/plain": [
       "0.8098778544875199"
      ]
     },
     "execution_count": 48,
     "metadata": {},
     "output_type": "execute_result"
    }
   ],
   "source": [
    "sgd_tfidf = Pipeline([\n",
    "    ('vect', CountVectorizer(ngram_range=(3, 4), analyzer='char')),\n",
    "    ('tf', TfidfTransformer()),\n",
    "    ('clf', SGDClassifier(alpha=.001,loss='hinge', penalty='l2', random_state=42,max_iter=5, tol=None))\n",
    "])\n",
    "sgd_tfidf.fit(train_X, train_y)\n",
    "predicted = sgd_tfidf.predict(test_X)\n",
    "np.mean(predicted == test_y)"
   ]
  },
  {
   "cell_type": "code",
   "execution_count": 49,
   "id": "8787c223",
   "metadata": {},
   "outputs": [
    {
     "name": "stdout",
     "output_type": "stream",
     "text": [
      "                          precision    recall  f1-score   support\n",
      "\n",
      "             alt.atheism       0.71      0.70      0.71       319\n",
      "           comp.graphics       0.69      0.78      0.73       389\n",
      " comp.os.ms-windows.misc       0.80      0.72      0.76       394\n",
      "comp.sys.ibm.pc.hardware       0.73      0.68      0.71       392\n",
      "   comp.sys.mac.hardware       0.87      0.80      0.83       385\n",
      "          comp.windows.x       0.83      0.85      0.84       395\n",
      "            misc.forsale       0.82      0.88      0.85       390\n",
      "               rec.autos       0.94      0.80      0.87       396\n",
      "         rec.motorcycles       0.92      0.92      0.92       398\n",
      "      rec.sport.baseball       0.81      0.88      0.84       397\n",
      "        rec.sport.hockey       0.85      0.98      0.91       399\n",
      "               sci.crypt       0.77      0.95      0.85       396\n",
      "         sci.electronics       0.85      0.60      0.70       393\n",
      "                 sci.med       0.88      0.79      0.83       396\n",
      "               sci.space       0.85      0.94      0.89       394\n",
      "  soc.religion.christian       0.75      0.94      0.84       398\n",
      "      talk.politics.guns       0.71      0.89      0.79       364\n",
      "   talk.politics.mideast       0.85      0.92      0.89       376\n",
      "      talk.politics.misc       0.80      0.57      0.67       310\n",
      "      talk.religion.misc       0.83      0.36      0.50       251\n",
      "\n",
      "                accuracy                           0.81      7532\n",
      "               macro avg       0.81      0.80      0.80      7532\n",
      "            weighted avg       0.81      0.81      0.80      7532\n",
      "\n"
     ]
    }
   ],
   "source": [
    ">>> print(metrics.classification_report(test_y, predicted,\n",
    "...     target_names=test.target_names, zero_division=1))"
   ]
  },
  {
   "cell_type": "code",
   "execution_count": 50,
   "id": "956ca397",
   "metadata": {},
   "outputs": [
    {
     "data": {
      "text/plain": [
       "0.6479022835900159"
      ]
     },
     "execution_count": 50,
     "metadata": {},
     "output_type": "execute_result"
    }
   ],
   "source": [
    "sgd_tfidf = Pipeline([\n",
    "    ('vect', CountVectorizer(max_features = 1000)),\n",
    "    ('tf', TfidfTransformer()),\n",
    "    ('clf', SGDClassifier(alpha=.001,loss='hinge', penalty='l2', random_state=42,max_iter=5, tol=None))\n",
    "])\n",
    "sgd_tfidf.fit(train_X, train_y)\n",
    "predicted = sgd_tfidf.predict(test_X)\n",
    "np.mean(predicted == test_y)"
   ]
  },
  {
   "cell_type": "code",
   "execution_count": 51,
   "id": "b5ceffe8",
   "metadata": {},
   "outputs": [
    {
     "name": "stdout",
     "output_type": "stream",
     "text": [
      "                          precision    recall  f1-score   support\n",
      "\n",
      "             alt.atheism       0.59      0.51      0.55       319\n",
      "           comp.graphics       0.53      0.58      0.55       389\n",
      " comp.os.ms-windows.misc       0.60      0.67      0.63       394\n",
      "comp.sys.ibm.pc.hardware       0.53      0.45      0.49       392\n",
      "   comp.sys.mac.hardware       0.59      0.61      0.60       385\n",
      "          comp.windows.x       0.65      0.60      0.62       395\n",
      "            misc.forsale       0.70      0.85      0.77       390\n",
      "               rec.autos       0.72      0.70      0.71       396\n",
      "         rec.motorcycles       0.74      0.80      0.77       398\n",
      "      rec.sport.baseball       0.66      0.72      0.69       397\n",
      "        rec.sport.hockey       0.73      0.84      0.78       399\n",
      "               sci.crypt       0.70      0.83      0.76       396\n",
      "         sci.electronics       0.53      0.30      0.39       393\n",
      "                 sci.med       0.66      0.57      0.61       396\n",
      "               sci.space       0.70      0.76      0.73       394\n",
      "  soc.religion.christian       0.60      0.87      0.71       398\n",
      "      talk.politics.guns       0.58      0.72      0.64       364\n",
      "   talk.politics.mideast       0.75      0.78      0.77       376\n",
      "      talk.politics.misc       0.67      0.41      0.51       310\n",
      "      talk.religion.misc       0.60      0.13      0.22       251\n",
      "\n",
      "                accuracy                           0.65      7532\n",
      "               macro avg       0.64      0.63      0.62      7532\n",
      "            weighted avg       0.64      0.65      0.63      7532\n",
      "\n"
     ]
    }
   ],
   "source": [
    ">>> print(metrics.classification_report(test_y, predicted,\n",
    "...     target_names=test.target_names, zero_division=1))"
   ]
  },
  {
   "cell_type": "code",
   "execution_count": 53,
   "id": "dffc77d4",
   "metadata": {},
   "outputs": [
    {
     "data": {
      "text/plain": [
       "0.7789431757833245"
      ]
     },
     "execution_count": 53,
     "metadata": {},
     "output_type": "execute_result"
    }
   ],
   "source": [
    "sgd_tfidf = Pipeline([\n",
    "    ('vect', CountVectorizer(max_features = 5000)),\n",
    "    ('tf', TfidfTransformer()),\n",
    "    ('clf', SGDClassifier(alpha=.001,loss='hinge', penalty='l2', random_state=42,max_iter=5, tol=None))\n",
    "])\n",
    "sgd_tfidf.fit(train_X, train_y)\n",
    "predicted = sgd_tfidf.predict(test_X)\n",
    "np.mean(predicted == test_y)"
   ]
  },
  {
   "cell_type": "code",
   "execution_count": 54,
   "id": "11cea038",
   "metadata": {},
   "outputs": [
    {
     "name": "stdout",
     "output_type": "stream",
     "text": [
      "                          precision    recall  f1-score   support\n",
      "\n",
      "             alt.atheism       0.68      0.65      0.66       319\n",
      "           comp.graphics       0.70      0.65      0.67       389\n",
      " comp.os.ms-windows.misc       0.69      0.75      0.72       394\n",
      "comp.sys.ibm.pc.hardware       0.69      0.60      0.64       392\n",
      "   comp.sys.mac.hardware       0.75      0.79      0.77       385\n",
      "          comp.windows.x       0.78      0.74      0.76       395\n",
      "            misc.forsale       0.79      0.88      0.84       390\n",
      "               rec.autos       0.85      0.84      0.84       396\n",
      "         rec.motorcycles       0.87      0.91      0.89       398\n",
      "      rec.sport.baseball       0.85      0.88      0.86       397\n",
      "        rec.sport.hockey       0.86      0.97      0.91       399\n",
      "               sci.crypt       0.85      0.95      0.90       396\n",
      "         sci.electronics       0.76      0.52      0.62       393\n",
      "                 sci.med       0.83      0.74      0.78       396\n",
      "               sci.space       0.80      0.93      0.86       394\n",
      "  soc.religion.christian       0.72      0.93      0.81       398\n",
      "      talk.politics.guns       0.66      0.89      0.76       364\n",
      "   talk.politics.mideast       0.85      0.89      0.87       376\n",
      "      talk.politics.misc       0.81      0.51      0.62       310\n",
      "      talk.religion.misc       0.77      0.31      0.44       251\n",
      "\n",
      "                accuracy                           0.78      7532\n",
      "               macro avg       0.78      0.77      0.76      7532\n",
      "            weighted avg       0.78      0.78      0.77      7532\n",
      "\n"
     ]
    }
   ],
   "source": [
    ">>> print(metrics.classification_report(test_y, predicted,\n",
    "...     target_names=test.target_names, zero_division=1))"
   ]
  },
  {
   "cell_type": "code",
   "execution_count": 55,
   "id": "7fb1a94b",
   "metadata": {},
   "outputs": [
    {
     "data": {
      "text/plain": [
       "0.8056293149229952"
      ]
     },
     "execution_count": 55,
     "metadata": {},
     "output_type": "execute_result"
    }
   ],
   "source": [
    "sgd_tfidf = Pipeline([\n",
    "    ('vect', CountVectorizer(max_features = 10000)),\n",
    "    ('tf', TfidfTransformer()),\n",
    "    ('clf', SGDClassifier(alpha=.001,loss='hinge', penalty='l2', random_state=42,max_iter=5, tol=None))\n",
    "])\n",
    "sgd_tfidf.fit(train_X, train_y)\n",
    "predicted = sgd_tfidf.predict(test_X)\n",
    "np.mean(predicted == test_y)"
   ]
  },
  {
   "cell_type": "code",
   "execution_count": 56,
   "id": "c39429ba",
   "metadata": {},
   "outputs": [
    {
     "name": "stdout",
     "output_type": "stream",
     "text": [
      "                          precision    recall  f1-score   support\n",
      "\n",
      "             alt.atheism       0.70      0.67      0.69       319\n",
      "           comp.graphics       0.76      0.71      0.73       389\n",
      " comp.os.ms-windows.misc       0.71      0.76      0.73       394\n",
      "comp.sys.ibm.pc.hardware       0.73      0.63      0.67       392\n",
      "   comp.sys.mac.hardware       0.78      0.81      0.80       385\n",
      "          comp.windows.x       0.81      0.75      0.78       395\n",
      "            misc.forsale       0.81      0.90      0.86       390\n",
      "               rec.autos       0.89      0.87      0.88       396\n",
      "         rec.motorcycles       0.89      0.94      0.92       398\n",
      "      rec.sport.baseball       0.88      0.89      0.89       397\n",
      "        rec.sport.hockey       0.87      0.99      0.93       399\n",
      "               sci.crypt       0.84      0.95      0.89       396\n",
      "         sci.electronics       0.80      0.56      0.66       393\n",
      "                 sci.med       0.85      0.84      0.84       396\n",
      "               sci.space       0.82      0.94      0.87       394\n",
      "  soc.religion.christian       0.75      0.94      0.83       398\n",
      "      talk.politics.guns       0.68      0.90      0.78       364\n",
      "   talk.politics.mideast       0.89      0.91      0.90       376\n",
      "      talk.politics.misc       0.86      0.54      0.66       310\n",
      "      talk.religion.misc       0.81      0.36      0.50       251\n",
      "\n",
      "                accuracy                           0.81      7532\n",
      "               macro avg       0.81      0.79      0.79      7532\n",
      "            weighted avg       0.81      0.81      0.80      7532\n",
      "\n"
     ]
    }
   ],
   "source": [
    ">>> print(metrics.classification_report(test_y, predicted,\n",
    "...     target_names=test.target_names, zero_division=1))"
   ]
  },
  {
   "cell_type": "code",
   "execution_count": 57,
   "id": "60eeb6e8",
   "metadata": {},
   "outputs": [
    {
     "data": {
      "text/plain": [
       "0.8159851301115242"
      ]
     },
     "execution_count": 57,
     "metadata": {},
     "output_type": "execute_result"
    }
   ],
   "source": [
    "sgd_tfidf = Pipeline([\n",
    "    ('vect', CountVectorizer(max_features = 20000)),\n",
    "    ('tf', TfidfTransformer()),\n",
    "    ('clf', SGDClassifier(alpha=.001,loss='hinge', penalty='l2', random_state=42,max_iter=5, tol=None))\n",
    "])\n",
    "sgd_tfidf.fit(train_X, train_y)\n",
    "predicted = sgd_tfidf.predict(test_X)\n",
    "np.mean(predicted == test_y)"
   ]
  },
  {
   "cell_type": "code",
   "execution_count": 58,
   "id": "a8670991",
   "metadata": {},
   "outputs": [
    {
     "name": "stdout",
     "output_type": "stream",
     "text": [
      "                          precision    recall  f1-score   support\n",
      "\n",
      "             alt.atheism       0.72      0.69      0.70       319\n",
      "           comp.graphics       0.76      0.71      0.74       389\n",
      " comp.os.ms-windows.misc       0.72      0.76      0.74       394\n",
      "comp.sys.ibm.pc.hardware       0.74      0.66      0.70       392\n",
      "   comp.sys.mac.hardware       0.79      0.82      0.81       385\n",
      "          comp.windows.x       0.83      0.75      0.79       395\n",
      "            misc.forsale       0.83      0.90      0.86       390\n",
      "               rec.autos       0.89      0.88      0.88       396\n",
      "         rec.motorcycles       0.91      0.96      0.93       398\n",
      "      rec.sport.baseball       0.88      0.90      0.89       397\n",
      "        rec.sport.hockey       0.88      0.98      0.93       399\n",
      "               sci.crypt       0.83      0.96      0.89       396\n",
      "         sci.electronics       0.83      0.59      0.69       393\n",
      "                 sci.med       0.88      0.85      0.86       396\n",
      "               sci.space       0.83      0.96      0.89       394\n",
      "  soc.religion.christian       0.75      0.94      0.84       398\n",
      "      talk.politics.guns       0.69      0.91      0.78       364\n",
      "   talk.politics.mideast       0.89      0.93      0.91       376\n",
      "      talk.politics.misc       0.88      0.54      0.67       310\n",
      "      talk.religion.misc       0.82      0.39      0.52       251\n",
      "\n",
      "                accuracy                           0.82      7532\n",
      "               macro avg       0.82      0.80      0.80      7532\n",
      "            weighted avg       0.82      0.82      0.81      7532\n",
      "\n"
     ]
    }
   ],
   "source": [
    ">>> print(metrics.classification_report(test_y, predicted,\n",
    "...     target_names=test.target_names, zero_division=1))"
   ]
  },
  {
   "cell_type": "code",
   "execution_count": null,
   "id": "a68a74fe",
   "metadata": {},
   "outputs": [],
   "source": []
  }
 ],
 "metadata": {
  "kernelspec": {
   "display_name": "textmining",
   "language": "python",
   "name": "textminig"
  },
  "language_info": {
   "codemirror_mode": {
    "name": "ipython",
    "version": 3
   },
   "file_extension": ".py",
   "mimetype": "text/x-python",
   "name": "python",
   "nbconvert_exporter": "python",
   "pygments_lexer": "ipython3",
   "version": "3.9.18"
  }
 },
 "nbformat": 4,
 "nbformat_minor": 5
}
