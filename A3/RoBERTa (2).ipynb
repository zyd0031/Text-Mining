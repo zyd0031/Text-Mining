{
 "cells": [
  {
   "cell_type": "code",
   "execution_count": 1,
   "metadata": {
    "execution": {
     "iopub.execute_input": "2024-01-04T08:54:58.751969Z",
     "iopub.status.busy": "2024-01-04T08:54:58.751679Z",
     "iopub.status.idle": "2024-01-04T08:55:12.764791Z",
     "shell.execute_reply": "2024-01-04T08:55:12.763797Z",
     "shell.execute_reply.started": "2024-01-04T08:54:58.751943Z"
    }
   },
   "outputs": [
    {
     "name": "stdout",
     "output_type": "stream",
     "text": [
      "Collecting evaluate\n",
      "  Obtaining dependency information for evaluate from https://files.pythonhosted.org/packages/70/63/7644a1eb7b0297e585a6adec98ed9e575309bb973c33b394dae66bc35c69/evaluate-0.4.1-py3-none-any.whl.metadata\n",
      "  Downloading evaluate-0.4.1-py3-none-any.whl.metadata (9.4 kB)\n",
      "Requirement already satisfied: datasets>=2.0.0 in /opt/conda/lib/python3.10/site-packages (from evaluate) (2.1.0)\n",
      "Requirement already satisfied: numpy>=1.17 in /opt/conda/lib/python3.10/site-packages (from evaluate) (1.24.3)\n",
      "Requirement already satisfied: dill in /opt/conda/lib/python3.10/site-packages (from evaluate) (0.3.7)\n",
      "Requirement already satisfied: pandas in /opt/conda/lib/python3.10/site-packages (from evaluate) (2.0.3)\n",
      "Requirement already satisfied: requests>=2.19.0 in /opt/conda/lib/python3.10/site-packages (from evaluate) (2.31.0)\n",
      "Requirement already satisfied: tqdm>=4.62.1 in /opt/conda/lib/python3.10/site-packages (from evaluate) (4.66.1)\n",
      "Requirement already satisfied: xxhash in /opt/conda/lib/python3.10/site-packages (from evaluate) (3.4.1)\n",
      "Requirement already satisfied: multiprocess in /opt/conda/lib/python3.10/site-packages (from evaluate) (0.70.15)\n",
      "Requirement already satisfied: fsspec[http]>=2021.05.0 in /opt/conda/lib/python3.10/site-packages (from evaluate) (2023.12.2)\n",
      "Requirement already satisfied: huggingface-hub>=0.7.0 in /opt/conda/lib/python3.10/site-packages (from evaluate) (0.19.4)\n",
      "Requirement already satisfied: packaging in /opt/conda/lib/python3.10/site-packages (from evaluate) (21.3)\n",
      "Requirement already satisfied: responses<0.19 in /opt/conda/lib/python3.10/site-packages (from evaluate) (0.18.0)\n",
      "Requirement already satisfied: pyarrow>=5.0.0 in /opt/conda/lib/python3.10/site-packages (from datasets>=2.0.0->evaluate) (11.0.0)\n",
      "Requirement already satisfied: aiohttp in /opt/conda/lib/python3.10/site-packages (from datasets>=2.0.0->evaluate) (3.8.5)\n",
      "Requirement already satisfied: filelock in /opt/conda/lib/python3.10/site-packages (from huggingface-hub>=0.7.0->evaluate) (3.12.2)\n",
      "Requirement already satisfied: pyyaml>=5.1 in /opt/conda/lib/python3.10/site-packages (from huggingface-hub>=0.7.0->evaluate) (6.0.1)\n",
      "Requirement already satisfied: typing-extensions>=3.7.4.3 in /opt/conda/lib/python3.10/site-packages (from huggingface-hub>=0.7.0->evaluate) (4.5.0)\n",
      "Requirement already satisfied: pyparsing!=3.0.5,>=2.0.2 in /opt/conda/lib/python3.10/site-packages (from packaging->evaluate) (3.0.9)\n",
      "Requirement already satisfied: charset-normalizer<4,>=2 in /opt/conda/lib/python3.10/site-packages (from requests>=2.19.0->evaluate) (3.2.0)\n",
      "Requirement already satisfied: idna<4,>=2.5 in /opt/conda/lib/python3.10/site-packages (from requests>=2.19.0->evaluate) (3.4)\n",
      "Requirement already satisfied: urllib3<3,>=1.21.1 in /opt/conda/lib/python3.10/site-packages (from requests>=2.19.0->evaluate) (1.26.15)\n",
      "Requirement already satisfied: certifi>=2017.4.17 in /opt/conda/lib/python3.10/site-packages (from requests>=2.19.0->evaluate) (2023.11.17)\n",
      "Requirement already satisfied: python-dateutil>=2.8.2 in /opt/conda/lib/python3.10/site-packages (from pandas->evaluate) (2.8.2)\n",
      "Requirement already satisfied: pytz>=2020.1 in /opt/conda/lib/python3.10/site-packages (from pandas->evaluate) (2023.3)\n",
      "Requirement already satisfied: tzdata>=2022.1 in /opt/conda/lib/python3.10/site-packages (from pandas->evaluate) (2023.3)\n",
      "Requirement already satisfied: attrs>=17.3.0 in /opt/conda/lib/python3.10/site-packages (from aiohttp->datasets>=2.0.0->evaluate) (23.1.0)\n",
      "Requirement already satisfied: multidict<7.0,>=4.5 in /opt/conda/lib/python3.10/site-packages (from aiohttp->datasets>=2.0.0->evaluate) (6.0.4)\n",
      "Requirement already satisfied: async-timeout<5.0,>=4.0.0a3 in /opt/conda/lib/python3.10/site-packages (from aiohttp->datasets>=2.0.0->evaluate) (4.0.3)\n",
      "Requirement already satisfied: yarl<2.0,>=1.0 in /opt/conda/lib/python3.10/site-packages (from aiohttp->datasets>=2.0.0->evaluate) (1.9.2)\n",
      "Requirement already satisfied: frozenlist>=1.1.1 in /opt/conda/lib/python3.10/site-packages (from aiohttp->datasets>=2.0.0->evaluate) (1.4.0)\n",
      "Requirement already satisfied: aiosignal>=1.1.2 in /opt/conda/lib/python3.10/site-packages (from aiohttp->datasets>=2.0.0->evaluate) (1.3.1)\n",
      "Requirement already satisfied: six>=1.5 in /opt/conda/lib/python3.10/site-packages (from python-dateutil>=2.8.2->pandas->evaluate) (1.16.0)\n",
      "Downloading evaluate-0.4.1-py3-none-any.whl (84 kB)\n",
      "\u001b[2K   \u001b[90m━━━━━━━━━━━━━━━━━━━━━━━━━━━━━━━━━━━━━━━━\u001b[0m \u001b[32m84.1/84.1 kB\u001b[0m \u001b[31m2.6 MB/s\u001b[0m eta \u001b[36m0:00:00\u001b[0m\n",
      "\u001b[?25hInstalling collected packages: evaluate\n",
      "Successfully installed evaluate-0.4.1\n"
     ]
    }
   ],
   "source": [
    "! pip install evaluate"
   ]
  },
  {
   "cell_type": "code",
   "execution_count": 2,
   "metadata": {
    "execution": {
     "iopub.execute_input": "2024-01-04T08:55:12.768626Z",
     "iopub.status.busy": "2024-01-04T08:55:12.766796Z",
     "iopub.status.idle": "2024-01-04T08:55:31.085331Z",
     "shell.execute_reply": "2024-01-04T08:55:31.084544Z",
     "shell.execute_reply.started": "2024-01-04T08:55:12.768595Z"
    }
   },
   "outputs": [
    {
     "name": "stderr",
     "output_type": "stream",
     "text": [
      "/opt/conda/lib/python3.10/site-packages/scipy/__init__.py:146: UserWarning: A NumPy version >=1.16.5 and <1.23.0 is required for this version of SciPy (detected version 1.24.3\n",
      "  warnings.warn(f\"A NumPy version >={np_minversion} and <{np_maxversion}\"\n"
     ]
    }
   ],
   "source": [
    "import numpy as np\n",
    "import pandas as pd\n",
    "import evaluate\n",
    "from nltk.corpus import stopwords\n",
    "import torch\n",
    "from torch.utils.data import Dataset, DataLoader\n",
    "from transformers import AutoTokenizer\n",
    "from transformers import RobertaModel, RobertaTokenizer\n",
    "from transformers import AutoModelForSequenceClassification\n",
    "from transformers import TrainingArguments, Trainer\n",
    "from tqdm import tqdm\n",
    "import re"
   ]
  },
  {
   "cell_type": "code",
   "execution_count": 3,
   "metadata": {
    "execution": {
     "iopub.execute_input": "2024-01-04T08:55:31.087250Z",
     "iopub.status.busy": "2024-01-04T08:55:31.086483Z",
     "iopub.status.idle": "2024-01-04T08:55:31.277714Z",
     "shell.execute_reply": "2024-01-04T08:55:31.276757Z",
     "shell.execute_reply.started": "2024-01-04T08:55:31.087216Z"
    }
   },
   "outputs": [],
   "source": [
    "df1 = pd.read_csv(\"/kaggle/input/semeval/twitter-2016dev-A.tsv\", delimiter = \"\\t\", header = None, names = [\"timestamp\", \"label\", \"text\"])\n",
    "df2 = pd.read_csv(\"/kaggle/input/semeval/twitter-2016train-A.tsv\", delimiter = \"\\t\", header = None, names = [\"timestamp\", \"label\", \"text\"])\n",
    "df3 = pd.read_csv(\"/kaggle/input/semeval/twitter-2016test-A.tsv\", sep='\\t', header=None, names = [\"timestamp\", \"label\", \"text\"], usecols=[0, 1, 2])"
   ]
  },
  {
   "cell_type": "code",
   "execution_count": 4,
   "metadata": {
    "execution": {
     "iopub.execute_input": "2024-01-04T08:55:31.279930Z",
     "iopub.status.busy": "2024-01-04T08:55:31.279646Z",
     "iopub.status.idle": "2024-01-04T08:55:31.314297Z",
     "shell.execute_reply": "2024-01-04T08:55:31.313365Z",
     "shell.execute_reply.started": "2024-01-04T08:55:31.279906Z"
    }
   },
   "outputs": [],
   "source": [
    "df1.drop_duplicates(subset=['label', \"text\"], inplace = True)\n",
    "df2.drop_duplicates(subset=['label', \"text\"], inplace = True)\n",
    "df3.drop_duplicates(subset=['label', \"text\"], inplace = True)"
   ]
  },
  {
   "cell_type": "code",
   "execution_count": 5,
   "metadata": {
    "execution": {
     "iopub.execute_input": "2024-01-04T08:55:31.315885Z",
     "iopub.status.busy": "2024-01-04T08:55:31.315548Z",
     "iopub.status.idle": "2024-01-04T08:55:31.328497Z",
     "shell.execute_reply": "2024-01-04T08:55:31.327569Z",
     "shell.execute_reply.started": "2024-01-04T08:55:31.315842Z"
    }
   },
   "outputs": [],
   "source": [
    "def clean_text(text):\n",
    "    \n",
    "    text = re.sub(r'http\\S+|www\\S+|https\\S+', '', text, flags=re.MULTILINE)\n",
    "    text = re.sub(r'#\\S+', '', text)\n",
    "    text = re.sub(r'@\\S+', '', text)\n",
    "    text = re.sub(r'&[a-zA-Z]+;', '', text)\n",
    "    \n",
    "    emoticons = {\n",
    "        \":)\": \"<smile>\",\n",
    "        \":(\": \"<sadface>\",\n",
    "        \":D\": \"<lolface>\",\n",
    "        \":-)\": \"<smile>\",\n",
    "        \":-(\": \"<sadface>\",\n",
    "        \":-D\": \"<lolface>\",\n",
    "        \";)\": \"<wink>\",\n",
    "        \";(\": \"<sadface>\",\n",
    "        \";D\": \"<lolface>\",\n",
    "        \";-)\": \"<wink>\",\n",
    "        \";-(\": \"<sadface>\",\n",
    "        \";-D\": \"<lolface>\"\n",
    "    }\n",
    "    \n",
    "    for emoticon, replacement in emoticons.items():\n",
    "        text = text.replace(emoticon, replacement)\n",
    "    \n",
    "    text = text.lower()\n",
    "    \n",
    "    text = re.sub(r'\\bu\\b', 'you', text)\n",
    "   \n",
    "    stop_words = set(stopwords.words('english'))\n",
    "    text = ' '.join([word for word in text.split() if word.lower() not in stop_words])\n",
    "         \n",
    "    return text"
   ]
  },
  {
   "cell_type": "code",
   "execution_count": 6,
   "metadata": {
    "execution": {
     "iopub.execute_input": "2024-01-04T08:55:31.330044Z",
     "iopub.status.busy": "2024-01-04T08:55:31.329765Z",
     "iopub.status.idle": "2024-01-04T08:55:36.029963Z",
     "shell.execute_reply": "2024-01-04T08:55:36.029195Z",
     "shell.execute_reply.started": "2024-01-04T08:55:31.330020Z"
    }
   },
   "outputs": [],
   "source": [
    "df1[\"text\"] = df1[\"text\"].apply(clean_text)\n",
    "df2[\"text\"] = df2[\"text\"].apply(clean_text)\n",
    "df3[\"text\"] = df3[\"text\"].apply(clean_text)"
   ]
  },
  {
   "cell_type": "code",
   "execution_count": 7,
   "metadata": {
    "execution": {
     "iopub.execute_input": "2024-01-04T08:55:36.031280Z",
     "iopub.status.busy": "2024-01-04T08:55:36.031000Z",
     "iopub.status.idle": "2024-01-04T08:55:36.061970Z",
     "shell.execute_reply": "2024-01-04T08:55:36.061163Z",
     "shell.execute_reply.started": "2024-01-04T08:55:36.031259Z"
    }
   },
   "outputs": [],
   "source": [
    "replace_dict = {\n",
    "    \"neutral\":1,\n",
    "    \"positive\":2,\n",
    "    \"negative\":0\n",
    "}\n",
    "\n",
    "df1[\"label\"] = df1[\"label\"].replace(replace_dict)\n",
    "df2[\"label\"] = df2[\"label\"].replace(replace_dict)\n",
    "df3[\"label\"] = df3[\"label\"].replace(replace_dict)"
   ]
  },
  {
   "cell_type": "code",
   "execution_count": 8,
   "metadata": {
    "execution": {
     "iopub.execute_input": "2024-01-04T08:55:36.063237Z",
     "iopub.status.busy": "2024-01-04T08:55:36.062968Z",
     "iopub.status.idle": "2024-01-04T08:55:36.068518Z",
     "shell.execute_reply": "2024-01-04T08:55:36.067504Z",
     "shell.execute_reply.started": "2024-01-04T08:55:36.063214Z"
    }
   },
   "outputs": [],
   "source": [
    "X_train, y_train = df2['text'], df2['label']\n",
    "X_dev, y_dev = df1['text'], df1['label']\n",
    "X_test, y_test = df3['text'], df3['label']"
   ]
  },
  {
   "cell_type": "code",
   "execution_count": 9,
   "metadata": {
    "execution": {
     "iopub.execute_input": "2024-01-04T08:55:36.070286Z",
     "iopub.status.busy": "2024-01-04T08:55:36.069871Z",
     "iopub.status.idle": "2024-01-04T08:55:36.103667Z",
     "shell.execute_reply": "2024-01-04T08:55:36.103011Z",
     "shell.execute_reply.started": "2024-01-04T08:55:36.070255Z"
    }
   },
   "outputs": [],
   "source": [
    "from datasets import Dataset\n",
    "\n",
    "train_data = Dataset.from_dict({'text': X_train, 'score': y_train})\n",
    "dev_data = Dataset.from_dict({'text': X_dev, 'score': y_dev})\n",
    "test_data = Dataset.from_dict({'text': X_test, 'score': y_test})"
   ]
  },
  {
   "cell_type": "code",
   "execution_count": 10,
   "metadata": {
    "execution": {
     "iopub.execute_input": "2024-01-04T08:55:36.106932Z",
     "iopub.status.busy": "2024-01-04T08:55:36.106655Z",
     "iopub.status.idle": "2024-01-04T08:55:40.681753Z",
     "shell.execute_reply": "2024-01-04T08:55:40.681004Z",
     "shell.execute_reply.started": "2024-01-04T08:55:36.106908Z"
    }
   },
   "outputs": [
    {
     "data": {
      "application/vnd.jupyter.widget-view+json": {
       "model_id": "7d1e37bbace24c8990693a21fe80dbc8",
       "version_major": 2,
       "version_minor": 0
      },
      "text/plain": [
       "config.json:   0%|          | 0.00/481 [00:00<?, ?B/s]"
      ]
     },
     "metadata": {},
     "output_type": "display_data"
    },
    {
     "data": {
      "application/vnd.jupyter.widget-view+json": {
       "model_id": "a9519931d1e242b7bed71b5d77b9c74c",
       "version_major": 2,
       "version_minor": 0
      },
      "text/plain": [
       "vocab.json:   0%|          | 0.00/899k [00:00<?, ?B/s]"
      ]
     },
     "metadata": {},
     "output_type": "display_data"
    },
    {
     "data": {
      "application/vnd.jupyter.widget-view+json": {
       "model_id": "473be769093a437c8f4323f20beed900",
       "version_major": 2,
       "version_minor": 0
      },
      "text/plain": [
       "merges.txt:   0%|          | 0.00/456k [00:00<?, ?B/s]"
      ]
     },
     "metadata": {},
     "output_type": "display_data"
    },
    {
     "data": {
      "application/vnd.jupyter.widget-view+json": {
       "model_id": "6c971a4d64334710a0926e7a7b870b29",
       "version_major": 2,
       "version_minor": 0
      },
      "text/plain": [
       "tokenizer.json:   0%|          | 0.00/1.36M [00:00<?, ?B/s]"
      ]
     },
     "metadata": {},
     "output_type": "display_data"
    },
    {
     "data": {
      "application/vnd.jupyter.widget-view+json": {
       "model_id": "dd1046fe0988468f928102e650825985",
       "version_major": 2,
       "version_minor": 0
      },
      "text/plain": [
       "model.safetensors:   0%|          | 0.00/499M [00:00<?, ?B/s]"
      ]
     },
     "metadata": {},
     "output_type": "display_data"
    },
    {
     "name": "stderr",
     "output_type": "stream",
     "text": [
      "Some weights of RobertaForSequenceClassification were not initialized from the model checkpoint at roberta-base and are newly initialized: ['classifier.out_proj.bias', 'classifier.dense.bias', 'classifier.out_proj.weight', 'classifier.dense.weight']\n",
      "You should probably TRAIN this model on a down-stream task to be able to use it for predictions and inference.\n"
     ]
    }
   ],
   "source": [
    "from transformers import AutoTokenizer, AutoModelForSequenceClassification, DataCollatorWithPadding\n",
    "from torch.utils.data import DataLoader\n",
    "\n",
    "BASE_MODEL = \"roberta-base\"\n",
    "MAX_LENGTH = 256\n",
    "\n",
    "tokenizer = AutoTokenizer.from_pretrained(BASE_MODEL)\n",
    "model = AutoModelForSequenceClassification.from_pretrained(BASE_MODEL, num_labels=1)"
   ]
  },
  {
   "cell_type": "code",
   "execution_count": 11,
   "metadata": {
    "execution": {
     "iopub.execute_input": "2024-01-04T08:55:40.683143Z",
     "iopub.status.busy": "2024-01-04T08:55:40.682881Z",
     "iopub.status.idle": "2024-01-04T08:55:52.117754Z",
     "shell.execute_reply": "2024-01-04T08:55:52.116770Z",
     "shell.execute_reply.started": "2024-01-04T08:55:40.683119Z"
    }
   },
   "outputs": [
    {
     "data": {
      "application/vnd.jupyter.widget-view+json": {
       "model_id": "ac3a5f90a1724504aa5f5bb10b8a5f09",
       "version_major": 2,
       "version_minor": 0
      },
      "text/plain": [
       "  0%|          | 0/5849 [00:00<?, ?ex/s]"
      ]
     },
     "metadata": {},
     "output_type": "display_data"
    },
    {
     "data": {
      "application/vnd.jupyter.widget-view+json": {
       "model_id": "562d0fcda7484b62b235c36c2d29b0ab",
       "version_major": 2,
       "version_minor": 0
      },
      "text/plain": [
       "  0%|          | 0/1966 [00:00<?, ?ex/s]"
      ]
     },
     "metadata": {},
     "output_type": "display_data"
    },
    {
     "data": {
      "application/vnd.jupyter.widget-view+json": {
       "model_id": "faebdd86121944f6b0c63f1938067e10",
       "version_major": 2,
       "version_minor": 0
      },
      "text/plain": [
       "  0%|          | 0/20580 [00:00<?, ?ex/s]"
      ]
     },
     "metadata": {},
     "output_type": "display_data"
    }
   ],
   "source": [
    "ds = {\"train\": train_data, \"validation\": dev_data, \"test\": test_data}\n",
    "\n",
    "def preprocess_function(examples):\n",
    "    label = examples[\"score\"] \n",
    "    examples = tokenizer(examples[\"text\"], truncation=True, padding=\"max_length\", max_length=256)\n",
    "    examples[\"label\"] = float(label)\n",
    "    return examples\n",
    "\n",
    "for split in ds:\n",
    "    ds[split] = ds[split].map(preprocess_function, remove_columns=[\"text\", \"score\"])"
   ]
  },
  {
   "cell_type": "code",
   "execution_count": 12,
   "metadata": {
    "execution": {
     "iopub.execute_input": "2024-01-04T08:55:52.119522Z",
     "iopub.status.busy": "2024-01-04T08:55:52.119136Z",
     "iopub.status.idle": "2024-01-04T08:55:52.128589Z",
     "shell.execute_reply": "2024-01-04T08:55:52.127738Z",
     "shell.execute_reply.started": "2024-01-04T08:55:52.119488Z"
    }
   },
   "outputs": [],
   "source": [
    "from sklearn.metrics import mean_absolute_error\n",
    "from sklearn.metrics import mean_squared_error\n",
    "from sklearn.metrics import r2_score\n",
    "from sklearn.metrics import recall_score\n",
    "\n",
    "def compute_metrics_for_regression(eval_pred):\n",
    "    logits, labels = eval_pred\n",
    "    labels = labels.reshape(-1, 1)\n",
    "    \n",
    "    mse = mean_squared_error(labels, logits)\n",
    "    mae = mean_absolute_error(labels, logits)\n",
    "    r2 = r2_score(labels, logits)\n",
    "    single_squared_errors = ((logits - labels).flatten()**2).tolist()\n",
    "    recall = recall_score(labels, np.around(logits, decimals=0), average = \"macro\")\n",
    "    \n",
    "    # Compute accuracy \n",
    "    # Based on the fact that the rounded score = true score only if |single_squared_errors| < 0.5\n",
    "    accuracy = sum([1 for e in single_squared_errors if e < 0.25]) / len(single_squared_errors)\n",
    "    \n",
    "    return {\"mse\": mse, \"mae\": mae, \"r2\": r2, \"accuracy\": accuracy, \"recall\": recall}"
   ]
  },
  {
   "cell_type": "code",
   "execution_count": 13,
   "metadata": {
    "execution": {
     "iopub.execute_input": "2024-01-04T08:55:52.130135Z",
     "iopub.status.busy": "2024-01-04T08:55:52.129854Z",
     "iopub.status.idle": "2024-01-04T08:55:53.539022Z",
     "shell.execute_reply": "2024-01-04T08:55:53.537810Z",
     "shell.execute_reply.started": "2024-01-04T08:55:52.130111Z"
    }
   },
   "outputs": [],
   "source": [
    "import torch\n",
    "\n",
    "class RegressionTrainer(Trainer):\n",
    "    def compute_loss(self, model, inputs, return_outputs=False):\n",
    "        labels = inputs.pop(\"labels\")\n",
    "        outputs = model(**inputs)\n",
    "        logits = outputs[0][:, 0]\n",
    "        loss = torch.nn.functional.mse_loss(logits, labels)\n",
    "        return (loss, outputs) if return_outputs else loss"
   ]
  },
  {
   "cell_type": "code",
   "execution_count": 14,
   "metadata": {
    "execution": {
     "iopub.execute_input": "2024-01-04T08:55:53.540730Z",
     "iopub.status.busy": "2024-01-04T08:55:53.540346Z",
     "iopub.status.idle": "2024-01-04T08:55:53.617980Z",
     "shell.execute_reply": "2024-01-04T08:55:53.616898Z",
     "shell.execute_reply.started": "2024-01-04T08:55:53.540699Z"
    }
   },
   "outputs": [],
   "source": [
    "from transformers import TrainingArguments, Trainer\n",
    "\n",
    "training_args = TrainingArguments(\n",
    "    output_dir=\"../models/roberta-fine-tuned-regression-2\",\n",
    "    learning_rate=1e-3,\n",
    "    per_device_train_batch_size=8,\n",
    "    per_device_eval_batch_size=4,\n",
    "    num_train_epochs=5,\n",
    "    evaluation_strategy=\"epoch\",\n",
    "    save_strategy=\"epoch\",\n",
    "    save_total_limit=2,\n",
    "    metric_for_best_model=\"accuracy\",\n",
    "    load_best_model_at_end=True,\n",
    "    weight_decay=0.01,\n",
    ")"
   ]
  },
  {
   "cell_type": "code",
   "execution_count": 15,
   "metadata": {
    "execution": {
     "iopub.execute_input": "2024-01-04T08:55:53.619679Z",
     "iopub.status.busy": "2024-01-04T08:55:53.619327Z",
     "iopub.status.idle": "2024-01-04T09:22:00.272575Z",
     "shell.execute_reply": "2024-01-04T09:22:00.271200Z",
     "shell.execute_reply.started": "2024-01-04T08:55:53.619647Z"
    }
   },
   "outputs": [
    {
     "name": "stderr",
     "output_type": "stream",
     "text": [
      "\u001b[34m\u001b[1mwandb\u001b[0m: Logging into wandb.ai. (Learn how to deploy a W&B server locally: https://wandb.me/wandb-server)\n",
      "\u001b[34m\u001b[1mwandb\u001b[0m: You can find your API key in your browser here: https://wandb.ai/authorize\n",
      "\u001b[34m\u001b[1mwandb\u001b[0m: Paste an API key from your profile and hit enter, or press ctrl+c to quit:"
     ]
    },
    {
     "name": "stdin",
     "output_type": "stream",
     "text": [
      "  ········································\n"
     ]
    },
    {
     "name": "stderr",
     "output_type": "stream",
     "text": [
      "\u001b[34m\u001b[1mwandb\u001b[0m: Appending key for api.wandb.ai to your netrc file: /root/.netrc\n"
     ]
    },
    {
     "data": {
      "text/html": [
       "Tracking run with wandb version 0.16.1"
      ],
      "text/plain": [
       "<IPython.core.display.HTML object>"
      ]
     },
     "metadata": {},
     "output_type": "display_data"
    },
    {
     "data": {
      "text/html": [
       "Run data is saved locally in <code>/kaggle/working/wandb/run-20240104_090356-1dzrdjza</code>"
      ],
      "text/plain": [
       "<IPython.core.display.HTML object>"
      ]
     },
     "metadata": {},
     "output_type": "display_data"
    },
    {
     "data": {
      "text/html": [
       "Syncing run <strong><a href='https://wandb.ai/abb382937/huggingface/runs/1dzrdjza' target=\"_blank\">comic-glade-8</a></strong> to <a href='https://wandb.ai/abb382937/huggingface' target=\"_blank\">Weights & Biases</a> (<a href='https://wandb.me/run' target=\"_blank\">docs</a>)<br/>"
      ],
      "text/plain": [
       "<IPython.core.display.HTML object>"
      ]
     },
     "metadata": {},
     "output_type": "display_data"
    },
    {
     "data": {
      "text/html": [
       " View project at <a href='https://wandb.ai/abb382937/huggingface' target=\"_blank\">https://wandb.ai/abb382937/huggingface</a>"
      ],
      "text/plain": [
       "<IPython.core.display.HTML object>"
      ]
     },
     "metadata": {},
     "output_type": "display_data"
    },
    {
     "data": {
      "text/html": [
       " View run at <a href='https://wandb.ai/abb382937/huggingface/runs/1dzrdjza' target=\"_blank\">https://wandb.ai/abb382937/huggingface/runs/1dzrdjza</a>"
      ],
      "text/plain": [
       "<IPython.core.display.HTML object>"
      ]
     },
     "metadata": {},
     "output_type": "display_data"
    },
    {
     "data": {
      "text/html": [
       "\n",
       "    <div>\n",
       "      \n",
       "      <progress value='1830' max='1830' style='width:300px; height:20px; vertical-align: middle;'></progress>\n",
       "      [1830/1830 17:27, Epoch 5/5]\n",
       "    </div>\n",
       "    <table border=\"1\" class=\"dataframe\">\n",
       "  <thead>\n",
       " <tr style=\"text-align: left;\">\n",
       "      <th>Epoch</th>\n",
       "      <th>Training Loss</th>\n",
       "      <th>Validation Loss</th>\n",
       "      <th>Mse</th>\n",
       "      <th>Mae</th>\n",
       "      <th>R2</th>\n",
       "      <th>Accuracy</th>\n",
       "      <th>Recall</th>\n",
       "    </tr>\n",
       "  </thead>\n",
       "  <tbody>\n",
       "    <tr>\n",
       "      <td>1</td>\n",
       "      <td>No log</td>\n",
       "      <td>0.613283</td>\n",
       "      <td>0.613283</td>\n",
       "      <td>0.687699</td>\n",
       "      <td>-0.074210</td>\n",
       "      <td>0.379451</td>\n",
       "      <td>0.333333</td>\n",
       "    </tr>\n",
       "    <tr>\n",
       "      <td>2</td>\n",
       "      <td>0.680200</td>\n",
       "      <td>0.580725</td>\n",
       "      <td>0.580725</td>\n",
       "      <td>0.670969</td>\n",
       "      <td>-0.017183</td>\n",
       "      <td>0.379451</td>\n",
       "      <td>0.333333</td>\n",
       "    </tr>\n",
       "    <tr>\n",
       "      <td>3</td>\n",
       "      <td>0.544000</td>\n",
       "      <td>0.594223</td>\n",
       "      <td>0.594223</td>\n",
       "      <td>0.679369</td>\n",
       "      <td>-0.040825</td>\n",
       "      <td>0.379451</td>\n",
       "      <td>0.333333</td>\n",
       "    </tr>\n",
       "    <tr>\n",
       "      <td>4</td>\n",
       "      <td>0.544000</td>\n",
       "      <td>0.590429</td>\n",
       "      <td>0.590429</td>\n",
       "      <td>0.677337</td>\n",
       "      <td>-0.034180</td>\n",
       "      <td>0.379451</td>\n",
       "      <td>0.333333</td>\n",
       "    </tr>\n",
       "    <tr>\n",
       "      <td>5</td>\n",
       "      <td>0.536300</td>\n",
       "      <td>0.592147</td>\n",
       "      <td>0.592147</td>\n",
       "      <td>0.678280</td>\n",
       "      <td>-0.037190</td>\n",
       "      <td>0.379451</td>\n",
       "      <td>0.333333</td>\n",
       "    </tr>\n",
       "  </tbody>\n",
       "</table><p>"
      ],
      "text/plain": [
       "<IPython.core.display.HTML object>"
      ]
     },
     "metadata": {},
     "output_type": "display_data"
    },
    {
     "data": {
      "text/plain": [
       "TrainOutput(global_step=1830, training_loss=0.5759800311646175, metrics={'train_runtime': 1560.998, 'train_samples_per_second': 18.735, 'train_steps_per_second': 1.172, 'total_flos': 3847306863275520.0, 'train_loss': 0.5759800311646175, 'epoch': 5.0})"
      ]
     },
     "execution_count": 15,
     "metadata": {},
     "output_type": "execute_result"
    }
   ],
   "source": [
    "trainer = RegressionTrainer(\n",
    "    model=model,\n",
    "    args=training_args,\n",
    "    train_dataset=ds[\"train\"],\n",
    "    eval_dataset=ds[\"validation\"],\n",
    "    compute_metrics=compute_metrics_for_regression,\n",
    ")\n",
    "\n",
    "trainer.train()"
   ]
  },
  {
   "cell_type": "code",
   "execution_count": 18,
   "metadata": {
    "execution": {
     "iopub.execute_input": "2024-01-04T09:25:52.371225Z",
     "iopub.status.busy": "2024-01-04T09:25:52.370555Z",
     "iopub.status.idle": "2024-01-04T09:25:52.381809Z",
     "shell.execute_reply": "2024-01-04T09:25:52.380697Z",
     "shell.execute_reply.started": "2024-01-04T09:25:52.371188Z"
    }
   },
   "outputs": [],
   "source": [
    "training_args = TrainingArguments(\n",
    "    output_dir=\"../models/roberta-fine-tuned-regression-3\",\n",
    "    learning_rate=1e-4,\n",
    "    per_device_train_batch_size=8,\n",
    "    per_device_eval_batch_size=4,\n",
    "    num_train_epochs=5,\n",
    "    evaluation_strategy=\"epoch\",\n",
    "    save_strategy=\"epoch\",\n",
    "    save_total_limit=2,\n",
    "    metric_for_best_model=\"accuracy\",\n",
    "    load_best_model_at_end=True,\n",
    "    weight_decay=0.01,\n",
    ")"
   ]
  },
  {
   "cell_type": "code",
   "execution_count": 19,
   "metadata": {
    "execution": {
     "iopub.execute_input": "2024-01-04T09:25:57.341984Z",
     "iopub.status.busy": "2024-01-04T09:25:57.341586Z",
     "iopub.status.idle": "2024-01-04T09:43:38.306131Z",
     "shell.execute_reply": "2024-01-04T09:43:38.305211Z",
     "shell.execute_reply.started": "2024-01-04T09:25:57.341953Z"
    }
   },
   "outputs": [
    {
     "name": "stderr",
     "output_type": "stream",
     "text": [
      "Some weights of RobertaForSequenceClassification were not initialized from the model checkpoint at roberta-base and are newly initialized: ['classifier.out_proj.bias', 'classifier.dense.bias', 'classifier.out_proj.weight', 'classifier.dense.weight']\n",
      "You should probably TRAIN this model on a down-stream task to be able to use it for predictions and inference.\n"
     ]
    },
    {
     "data": {
      "text/html": [
       "\n",
       "    <div>\n",
       "      \n",
       "      <progress value='1830' max='1830' style='width:300px; height:20px; vertical-align: middle;'></progress>\n",
       "      [1830/1830 17:39, Epoch 5/5]\n",
       "    </div>\n",
       "    <table border=\"1\" class=\"dataframe\">\n",
       "  <thead>\n",
       " <tr style=\"text-align: left;\">\n",
       "      <th>Epoch</th>\n",
       "      <th>Training Loss</th>\n",
       "      <th>Validation Loss</th>\n",
       "      <th>Mse</th>\n",
       "      <th>Mae</th>\n",
       "      <th>R2</th>\n",
       "      <th>Accuracy</th>\n",
       "      <th>Recall</th>\n",
       "    </tr>\n",
       "  </thead>\n",
       "  <tbody>\n",
       "    <tr>\n",
       "      <td>1</td>\n",
       "      <td>No log</td>\n",
       "      <td>0.691880</td>\n",
       "      <td>0.691880</td>\n",
       "      <td>0.692795</td>\n",
       "      <td>-0.211878</td>\n",
       "      <td>0.454730</td>\n",
       "      <td>0.363317</td>\n",
       "    </tr>\n",
       "    <tr>\n",
       "      <td>2</td>\n",
       "      <td>0.571800</td>\n",
       "      <td>0.570927</td>\n",
       "      <td>0.570927</td>\n",
       "      <td>0.654822</td>\n",
       "      <td>-0.000020</td>\n",
       "      <td>0.379451</td>\n",
       "      <td>0.333333</td>\n",
       "    </tr>\n",
       "    <tr>\n",
       "      <td>3</td>\n",
       "      <td>0.527200</td>\n",
       "      <td>0.614676</td>\n",
       "      <td>0.614676</td>\n",
       "      <td>0.688073</td>\n",
       "      <td>-0.076651</td>\n",
       "      <td>0.379959</td>\n",
       "      <td>0.334186</td>\n",
       "    </tr>\n",
       "    <tr>\n",
       "      <td>4</td>\n",
       "      <td>0.527200</td>\n",
       "      <td>0.584394</td>\n",
       "      <td>0.584394</td>\n",
       "      <td>0.673640</td>\n",
       "      <td>-0.023610</td>\n",
       "      <td>0.379451</td>\n",
       "      <td>0.333333</td>\n",
       "    </tr>\n",
       "    <tr>\n",
       "      <td>5</td>\n",
       "      <td>0.547000</td>\n",
       "      <td>0.601332</td>\n",
       "      <td>0.601332</td>\n",
       "      <td>0.682775</td>\n",
       "      <td>-0.053277</td>\n",
       "      <td>0.379451</td>\n",
       "      <td>0.333333</td>\n",
       "    </tr>\n",
       "  </tbody>\n",
       "</table><p>"
      ],
      "text/plain": [
       "<IPython.core.display.HTML object>"
      ]
     },
     "metadata": {},
     "output_type": "display_data"
    },
    {
     "name": "stderr",
     "output_type": "stream",
     "text": [
      "Checkpoint destination directory ../models/roberta-fine-tuned-regression-3/checkpoint-366 already exists and is non-empty.Saving will proceed but saved results may be invalid.\n"
     ]
    },
    {
     "data": {
      "text/plain": [
       "TrainOutput(global_step=1830, training_loss=0.5449480984380336, metrics={'train_runtime': 1059.7619, 'train_samples_per_second': 27.596, 'train_steps_per_second': 1.727, 'total_flos': 3847306863275520.0, 'train_loss': 0.5449480984380336, 'epoch': 5.0})"
      ]
     },
     "execution_count": 19,
     "metadata": {},
     "output_type": "execute_result"
    }
   ],
   "source": [
    "model = AutoModelForSequenceClassification.from_pretrained(BASE_MODEL, num_labels=1)\n",
    "trainer = RegressionTrainer(\n",
    "    model=model,\n",
    "    args=training_args,\n",
    "    train_dataset=ds[\"train\"],\n",
    "    eval_dataset=ds[\"validation\"],\n",
    "    compute_metrics=compute_metrics_for_regression,\n",
    ")\n",
    "\n",
    "trainer.train()"
   ]
  },
  {
   "cell_type": "code",
   "execution_count": 40,
   "metadata": {
    "execution": {
     "iopub.execute_input": "2024-01-04T14:29:47.414792Z",
     "iopub.status.busy": "2024-01-04T14:29:47.413804Z",
     "iopub.status.idle": "2024-01-04T14:29:47.425717Z",
     "shell.execute_reply": "2024-01-04T14:29:47.424569Z",
     "shell.execute_reply.started": "2024-01-04T14:29:47.414755Z"
    }
   },
   "outputs": [],
   "source": [
    "training_args = TrainingArguments(\n",
    "    output_dir=\"../models/roberta-fine-tuned-regression-3\",\n",
    "    learning_rate=1e-5,\n",
    "    per_device_train_batch_size=8,\n",
    "    per_device_eval_batch_size=4,\n",
    "    num_train_epochs=5,\n",
    "    evaluation_strategy=\"epoch\",\n",
    "    save_strategy=\"epoch\",\n",
    "    save_total_limit=2,\n",
    "    metric_for_best_model=\"accuracy\",\n",
    "    load_best_model_at_end=True,\n",
    "    weight_decay=0.01,\n",
    ")"
   ]
  },
  {
   "cell_type": "code",
   "execution_count": 21,
   "metadata": {
    "execution": {
     "iopub.execute_input": "2024-01-04T09:43:38.319031Z",
     "iopub.status.busy": "2024-01-04T09:43:38.318749Z",
     "iopub.status.idle": "2024-01-04T10:01:19.393571Z",
     "shell.execute_reply": "2024-01-04T10:01:19.392526Z",
     "shell.execute_reply.started": "2024-01-04T09:43:38.319006Z"
    }
   },
   "outputs": [
    {
     "name": "stderr",
     "output_type": "stream",
     "text": [
      "Some weights of RobertaForSequenceClassification were not initialized from the model checkpoint at roberta-base and are newly initialized: ['classifier.out_proj.bias', 'classifier.dense.bias', 'classifier.out_proj.weight', 'classifier.dense.weight']\n",
      "You should probably TRAIN this model on a down-stream task to be able to use it for predictions and inference.\n"
     ]
    },
    {
     "data": {
      "text/html": [
       "\n",
       "    <div>\n",
       "      \n",
       "      <progress value='1830' max='1830' style='width:300px; height:20px; vertical-align: middle;'></progress>\n",
       "      [1830/1830 17:39, Epoch 5/5]\n",
       "    </div>\n",
       "    <table border=\"1\" class=\"dataframe\">\n",
       "  <thead>\n",
       " <tr style=\"text-align: left;\">\n",
       "      <th>Epoch</th>\n",
       "      <th>Training Loss</th>\n",
       "      <th>Validation Loss</th>\n",
       "      <th>Mse</th>\n",
       "      <th>Mae</th>\n",
       "      <th>R2</th>\n",
       "      <th>Accuracy</th>\n",
       "      <th>Recall</th>\n",
       "    </tr>\n",
       "  </thead>\n",
       "  <tbody>\n",
       "    <tr>\n",
       "      <td>1</td>\n",
       "      <td>No log</td>\n",
       "      <td>0.444802</td>\n",
       "      <td>0.444802</td>\n",
       "      <td>0.516608</td>\n",
       "      <td>0.220897</td>\n",
       "      <td>0.545270</td>\n",
       "      <td>0.461682</td>\n",
       "    </tr>\n",
       "    <tr>\n",
       "      <td>2</td>\n",
       "      <td>0.435300</td>\n",
       "      <td>0.381997</td>\n",
       "      <td>0.381997</td>\n",
       "      <td>0.485646</td>\n",
       "      <td>0.330904</td>\n",
       "      <td>0.586470</td>\n",
       "      <td>0.518103</td>\n",
       "    </tr>\n",
       "    <tr>\n",
       "      <td>3</td>\n",
       "      <td>0.288700</td>\n",
       "      <td>0.389354</td>\n",
       "      <td>0.389354</td>\n",
       "      <td>0.493518</td>\n",
       "      <td>0.318018</td>\n",
       "      <td>0.586470</td>\n",
       "      <td>0.528686</td>\n",
       "    </tr>\n",
       "    <tr>\n",
       "      <td>4</td>\n",
       "      <td>0.288700</td>\n",
       "      <td>0.413399</td>\n",
       "      <td>0.413399</td>\n",
       "      <td>0.485724</td>\n",
       "      <td>0.275902</td>\n",
       "      <td>0.597660</td>\n",
       "      <td>0.569668</td>\n",
       "    </tr>\n",
       "    <tr>\n",
       "      <td>5</td>\n",
       "      <td>0.231600</td>\n",
       "      <td>0.438779</td>\n",
       "      <td>0.438779</td>\n",
       "      <td>0.493684</td>\n",
       "      <td>0.231446</td>\n",
       "      <td>0.592574</td>\n",
       "      <td>0.559216</td>\n",
       "    </tr>\n",
       "  </tbody>\n",
       "</table><p>"
      ],
      "text/plain": [
       "<IPython.core.display.HTML object>"
      ]
     },
     "metadata": {},
     "output_type": "display_data"
    },
    {
     "name": "stderr",
     "output_type": "stream",
     "text": [
      "Checkpoint destination directory ../models/roberta-fine-tuned-regression-3/checkpoint-366 already exists and is non-empty.Saving will proceed but saved results may be invalid.\n"
     ]
    },
    {
     "data": {
      "text/plain": [
       "TrainOutput(global_step=1830, training_loss=0.2970592269480554, metrics={'train_runtime': 1059.8949, 'train_samples_per_second': 27.592, 'train_steps_per_second': 1.727, 'total_flos': 3847306863275520.0, 'train_loss': 0.2970592269480554, 'epoch': 5.0})"
      ]
     },
     "execution_count": 21,
     "metadata": {},
     "output_type": "execute_result"
    }
   ],
   "source": [
    "model = AutoModelForSequenceClassification.from_pretrained(BASE_MODEL, num_labels=1)\n",
    "trainer = RegressionTrainer(\n",
    "    model=model,\n",
    "    args=training_args,\n",
    "    train_dataset=ds[\"train\"],\n",
    "    eval_dataset=ds[\"validation\"],\n",
    "    compute_metrics=compute_metrics_for_regression,\n",
    ")\n",
    "\n",
    "trainer.train()"
   ]
  },
  {
   "cell_type": "code",
   "execution_count": 22,
   "metadata": {
    "execution": {
     "iopub.execute_input": "2024-01-04T10:01:19.396884Z",
     "iopub.status.busy": "2024-01-04T10:01:19.396473Z",
     "iopub.status.idle": "2024-01-04T10:01:19.406650Z",
     "shell.execute_reply": "2024-01-04T10:01:19.405695Z",
     "shell.execute_reply.started": "2024-01-04T10:01:19.396845Z"
    }
   },
   "outputs": [],
   "source": [
    "training_args = TrainingArguments(\n",
    "    output_dir=\"../models/roberta-fine-tuned-regression-3\",\n",
    "    learning_rate=1e-6,\n",
    "    per_device_train_batch_size=8,\n",
    "    per_device_eval_batch_size=4,\n",
    "    num_train_epochs=5,\n",
    "    evaluation_strategy=\"epoch\",\n",
    "    save_strategy=\"epoch\",\n",
    "    save_total_limit=2,\n",
    "    metric_for_best_model=\"accuracy\",\n",
    "    load_best_model_at_end=True,\n",
    "    weight_decay=0.01,\n",
    ")"
   ]
  },
  {
   "cell_type": "code",
   "execution_count": 23,
   "metadata": {
    "execution": {
     "iopub.execute_input": "2024-01-04T10:01:19.408925Z",
     "iopub.status.busy": "2024-01-04T10:01:19.407943Z",
     "iopub.status.idle": "2024-01-04T10:18:53.878251Z",
     "shell.execute_reply": "2024-01-04T10:18:53.876174Z",
     "shell.execute_reply.started": "2024-01-04T10:01:19.408883Z"
    }
   },
   "outputs": [
    {
     "name": "stderr",
     "output_type": "stream",
     "text": [
      "Some weights of RobertaForSequenceClassification were not initialized from the model checkpoint at roberta-base and are newly initialized: ['classifier.out_proj.bias', 'classifier.dense.bias', 'classifier.out_proj.weight', 'classifier.dense.weight']\n",
      "You should probably TRAIN this model on a down-stream task to be able to use it for predictions and inference.\n"
     ]
    },
    {
     "data": {
      "text/html": [
       "\n",
       "    <div>\n",
       "      \n",
       "      <progress value='1830' max='1830' style='width:300px; height:20px; vertical-align: middle;'></progress>\n",
       "      [1830/1830 17:32, Epoch 5/5]\n",
       "    </div>\n",
       "    <table border=\"1\" class=\"dataframe\">\n",
       "  <thead>\n",
       " <tr style=\"text-align: left;\">\n",
       "      <th>Epoch</th>\n",
       "      <th>Training Loss</th>\n",
       "      <th>Validation Loss</th>\n",
       "      <th>Mse</th>\n",
       "      <th>Mae</th>\n",
       "      <th>R2</th>\n",
       "      <th>Accuracy</th>\n",
       "      <th>Recall</th>\n",
       "    </tr>\n",
       "  </thead>\n",
       "  <tbody>\n",
       "    <tr>\n",
       "      <td>1</td>\n",
       "      <td>No log</td>\n",
       "      <td>0.479479</td>\n",
       "      <td>0.479479</td>\n",
       "      <td>0.566741</td>\n",
       "      <td>0.160158</td>\n",
       "      <td>0.515259</td>\n",
       "      <td>0.429105</td>\n",
       "    </tr>\n",
       "    <tr>\n",
       "      <td>2</td>\n",
       "      <td>0.761200</td>\n",
       "      <td>0.417458</td>\n",
       "      <td>0.417458</td>\n",
       "      <td>0.517676</td>\n",
       "      <td>0.268791</td>\n",
       "      <td>0.541200</td>\n",
       "      <td>0.454289</td>\n",
       "    </tr>\n",
       "    <tr>\n",
       "      <td>3</td>\n",
       "      <td>0.395300</td>\n",
       "      <td>0.425727</td>\n",
       "      <td>0.425727</td>\n",
       "      <td>0.510662</td>\n",
       "      <td>0.254308</td>\n",
       "      <td>0.550356</td>\n",
       "      <td>0.463615</td>\n",
       "    </tr>\n",
       "    <tr>\n",
       "      <td>4</td>\n",
       "      <td>0.395300</td>\n",
       "      <td>0.411418</td>\n",
       "      <td>0.411418</td>\n",
       "      <td>0.502935</td>\n",
       "      <td>0.279372</td>\n",
       "      <td>0.557986</td>\n",
       "      <td>0.478332</td>\n",
       "    </tr>\n",
       "    <tr>\n",
       "      <td>5</td>\n",
       "      <td>0.373100</td>\n",
       "      <td>0.428229</td>\n",
       "      <td>0.428229</td>\n",
       "      <td>0.506550</td>\n",
       "      <td>0.249925</td>\n",
       "      <td>0.556968</td>\n",
       "      <td>0.471637</td>\n",
       "    </tr>\n",
       "  </tbody>\n",
       "</table><p>"
      ],
      "text/plain": [
       "<IPython.core.display.HTML object>"
      ]
     },
     "metadata": {},
     "output_type": "display_data"
    },
    {
     "data": {
      "text/plain": [
       "TrainOutput(global_step=1830, training_loss=0.48360563601301015, metrics={'train_runtime': 1053.2912, 'train_samples_per_second': 27.765, 'train_steps_per_second': 1.737, 'total_flos': 3847306863275520.0, 'train_loss': 0.48360563601301015, 'epoch': 5.0})"
      ]
     },
     "execution_count": 23,
     "metadata": {},
     "output_type": "execute_result"
    }
   ],
   "source": [
    "model = AutoModelForSequenceClassification.from_pretrained(BASE_MODEL, num_labels=1)\n",
    "trainer = RegressionTrainer(\n",
    "    model=model,\n",
    "    args=training_args,\n",
    "    train_dataset=ds[\"train\"],\n",
    "    eval_dataset=ds[\"validation\"],\n",
    "    compute_metrics=compute_metrics_for_regression,\n",
    ")\n",
    "\n",
    "trainer.train()"
   ]
  },
  {
   "cell_type": "code",
   "execution_count": 24,
   "metadata": {
    "execution": {
     "iopub.execute_input": "2024-01-04T10:18:53.879913Z",
     "iopub.status.busy": "2024-01-04T10:18:53.879622Z",
     "iopub.status.idle": "2024-01-04T10:18:53.893275Z",
     "shell.execute_reply": "2024-01-04T10:18:53.892333Z",
     "shell.execute_reply.started": "2024-01-04T10:18:53.879886Z"
    }
   },
   "outputs": [],
   "source": [
    "training_args = TrainingArguments(\n",
    "    output_dir=\"../models/roberta-fine-tuned-regression-3\",\n",
    "    learning_rate=1e-5,\n",
    "    per_device_train_batch_size=16,\n",
    "    per_device_eval_batch_size=4,\n",
    "    num_train_epochs=5,\n",
    "    evaluation_strategy=\"epoch\",\n",
    "    save_strategy=\"epoch\",\n",
    "    save_total_limit=2,\n",
    "    metric_for_best_model=\"accuracy\",\n",
    "    load_best_model_at_end=True,\n",
    "    weight_decay=0.01,\n",
    ")"
   ]
  },
  {
   "cell_type": "code",
   "execution_count": 25,
   "metadata": {
    "execution": {
     "iopub.execute_input": "2024-01-04T10:18:53.895066Z",
     "iopub.status.busy": "2024-01-04T10:18:53.894676Z",
     "iopub.status.idle": "2024-01-04T10:33:31.413290Z",
     "shell.execute_reply": "2024-01-04T10:33:31.412228Z",
     "shell.execute_reply.started": "2024-01-04T10:18:53.895028Z"
    }
   },
   "outputs": [
    {
     "name": "stderr",
     "output_type": "stream",
     "text": [
      "Some weights of RobertaForSequenceClassification were not initialized from the model checkpoint at roberta-base and are newly initialized: ['classifier.out_proj.bias', 'classifier.dense.bias', 'classifier.out_proj.weight', 'classifier.dense.weight']\n",
      "You should probably TRAIN this model on a down-stream task to be able to use it for predictions and inference.\n"
     ]
    },
    {
     "data": {
      "text/html": [
       "\n",
       "    <div>\n",
       "      \n",
       "      <progress value='915' max='915' style='width:300px; height:20px; vertical-align: middle;'></progress>\n",
       "      [915/915 14:35, Epoch 5/5]\n",
       "    </div>\n",
       "    <table border=\"1\" class=\"dataframe\">\n",
       "  <thead>\n",
       " <tr style=\"text-align: left;\">\n",
       "      <th>Epoch</th>\n",
       "      <th>Training Loss</th>\n",
       "      <th>Validation Loss</th>\n",
       "      <th>Mse</th>\n",
       "      <th>Mae</th>\n",
       "      <th>R2</th>\n",
       "      <th>Accuracy</th>\n",
       "      <th>Recall</th>\n",
       "    </tr>\n",
       "  </thead>\n",
       "  <tbody>\n",
       "    <tr>\n",
       "      <td>1</td>\n",
       "      <td>No log</td>\n",
       "      <td>0.420566</td>\n",
       "      <td>0.420566</td>\n",
       "      <td>0.501648</td>\n",
       "      <td>0.263347</td>\n",
       "      <td>0.554934</td>\n",
       "      <td>0.460513</td>\n",
       "    </tr>\n",
       "    <tr>\n",
       "      <td>2</td>\n",
       "      <td>No log</td>\n",
       "      <td>0.389566</td>\n",
       "      <td>0.389566</td>\n",
       "      <td>0.509384</td>\n",
       "      <td>0.317646</td>\n",
       "      <td>0.576297</td>\n",
       "      <td>0.527526</td>\n",
       "    </tr>\n",
       "    <tr>\n",
       "      <td>3</td>\n",
       "      <td>0.403000</td>\n",
       "      <td>0.430078</td>\n",
       "      <td>0.430078</td>\n",
       "      <td>0.516545</td>\n",
       "      <td>0.246686</td>\n",
       "      <td>0.572228</td>\n",
       "      <td>0.502528</td>\n",
       "    </tr>\n",
       "    <tr>\n",
       "      <td>4</td>\n",
       "      <td>0.403000</td>\n",
       "      <td>0.425601</td>\n",
       "      <td>0.425601</td>\n",
       "      <td>0.501272</td>\n",
       "      <td>0.254529</td>\n",
       "      <td>0.577314</td>\n",
       "      <td>0.531701</td>\n",
       "    </tr>\n",
       "    <tr>\n",
       "      <td>5</td>\n",
       "      <td>0.403000</td>\n",
       "      <td>0.438124</td>\n",
       "      <td>0.438124</td>\n",
       "      <td>0.504890</td>\n",
       "      <td>0.232593</td>\n",
       "      <td>0.581384</td>\n",
       "      <td>0.536812</td>\n",
       "    </tr>\n",
       "  </tbody>\n",
       "</table><p>"
      ],
      "text/plain": [
       "<IPython.core.display.HTML object>"
      ]
     },
     "metadata": {},
     "output_type": "display_data"
    },
    {
     "data": {
      "text/plain": [
       "TrainOutput(global_step=915, training_loss=0.33678756463723103, metrics={'train_runtime': 876.3297, 'train_samples_per_second': 33.372, 'train_steps_per_second': 1.044, 'total_flos': 3847306863275520.0, 'train_loss': 0.33678756463723103, 'epoch': 5.0})"
      ]
     },
     "execution_count": 25,
     "metadata": {},
     "output_type": "execute_result"
    }
   ],
   "source": [
    "model = AutoModelForSequenceClassification.from_pretrained(BASE_MODEL, num_labels=1)\n",
    "trainer = RegressionTrainer(\n",
    "    model=model,\n",
    "    args=training_args,\n",
    "    train_dataset=ds[\"train\"],\n",
    "    eval_dataset=ds[\"validation\"],\n",
    "    compute_metrics=compute_metrics_for_regression,\n",
    ")\n",
    "\n",
    "trainer.train()"
   ]
  },
  {
   "cell_type": "code",
   "execution_count": 28,
   "metadata": {
    "execution": {
     "iopub.execute_input": "2024-01-04T11:42:42.360336Z",
     "iopub.status.busy": "2024-01-04T11:42:42.359523Z",
     "iopub.status.idle": "2024-01-04T11:42:42.669656Z",
     "shell.execute_reply": "2024-01-04T11:42:42.668690Z",
     "shell.execute_reply.started": "2024-01-04T11:42:42.360301Z"
    }
   },
   "outputs": [
    {
     "data": {
      "image/png": "[encoded data removed]",
      "text/plain": [
       "<Figure size 640x480 with 1 Axes>"
      ]
     },
     "metadata": {},
     "output_type": "display_data"
    }
   ],
   "source": [
    "import matplotlib.pyplot as plt\n",
    "\n",
    "epochs = list(range(1, 6))  \n",
    "\n",
    "lr_3 = [0.33, 0.33, 0.33, 0.33, 0.33]\n",
    "lr_4 = [0.36, 0.33, 0.34, 0.33, 0.33]\n",
    "lr_5 = [0.46, 0.51, 0.52, 0.57, 0.56]\n",
    "lr_6 = [0.43, 0.45, 0.46, 0.48, 0.47]\n",
    "\n",
    "plt.plot(epochs, lr_3, label='1e-3')\n",
    "plt.plot(epochs, lr_4, label='1e-4')\n",
    "plt.plot(epochs, lr_5, label='1e-5')\n",
    "plt.plot(epochs, lr_6, label='1e-6')\n",
    "\n",
    "plt.xlabel('Epochs')\n",
    "plt.ylabel('Macro Recall')\n",
    "plt.legend()\n",
    "plt.show()\n"
   ]
  },
  {
   "cell_type": "code",
   "execution_count": 29,
   "metadata": {
    "execution": {
     "iopub.execute_input": "2024-01-04T11:52:18.210490Z",
     "iopub.status.busy": "2024-01-04T11:52:18.210064Z",
     "iopub.status.idle": "2024-01-04T11:52:18.220640Z",
     "shell.execute_reply": "2024-01-04T11:52:18.219708Z",
     "shell.execute_reply.started": "2024-01-04T11:52:18.210458Z"
    }
   },
   "outputs": [],
   "source": [
    "training_args = TrainingArguments(\n",
    "    output_dir=\"../models/roberta-fine-tuned-regression-3\",\n",
    "    learning_rate=1e-5,\n",
    "    per_device_train_batch_size=32,\n",
    "    per_device_eval_batch_size=4,\n",
    "    num_train_epochs=5,\n",
    "    evaluation_strategy=\"epoch\",\n",
    "    save_strategy=\"epoch\",\n",
    "    save_total_limit=2,\n",
    "    metric_for_best_model=\"accuracy\",\n",
    "    load_best_model_at_end=True,\n",
    "    weight_decay=0.01,\n",
    ")"
   ]
  },
  {
   "cell_type": "code",
   "execution_count": 30,
   "metadata": {
    "execution": {
     "iopub.execute_input": "2024-01-04T11:52:27.882619Z",
     "iopub.status.busy": "2024-01-04T11:52:27.882234Z",
     "iopub.status.idle": "2024-01-04T12:05:55.501202Z",
     "shell.execute_reply": "2024-01-04T12:05:55.500217Z",
     "shell.execute_reply.started": "2024-01-04T11:52:27.882588Z"
    }
   },
   "outputs": [
    {
     "name": "stderr",
     "output_type": "stream",
     "text": [
      "Some weights of RobertaForSequenceClassification were not initialized from the model checkpoint at roberta-base and are newly initialized: ['classifier.out_proj.bias', 'classifier.dense.bias', 'classifier.out_proj.weight', 'classifier.dense.weight']\n",
      "You should probably TRAIN this model on a down-stream task to be able to use it for predictions and inference.\n"
     ]
    },
    {
     "data": {
      "text/html": [
       "\n",
       "    <div>\n",
       "      \n",
       "      <progress value='460' max='460' style='width:300px; height:20px; vertical-align: middle;'></progress>\n",
       "      [460/460 13:24, Epoch 5/5]\n",
       "    </div>\n",
       "    <table border=\"1\" class=\"dataframe\">\n",
       "  <thead>\n",
       " <tr style=\"text-align: left;\">\n",
       "      <th>Epoch</th>\n",
       "      <th>Training Loss</th>\n",
       "      <th>Validation Loss</th>\n",
       "      <th>Mse</th>\n",
       "      <th>Mae</th>\n",
       "      <th>R2</th>\n",
       "      <th>Accuracy</th>\n",
       "      <th>Recall</th>\n",
       "    </tr>\n",
       "  </thead>\n",
       "  <tbody>\n",
       "    <tr>\n",
       "      <td>1</td>\n",
       "      <td>No log</td>\n",
       "      <td>0.411648</td>\n",
       "      <td>0.411648</td>\n",
       "      <td>0.539981</td>\n",
       "      <td>0.278969</td>\n",
       "      <td>0.530519</td>\n",
       "      <td>0.473964</td>\n",
       "    </tr>\n",
       "    <tr>\n",
       "      <td>2</td>\n",
       "      <td>No log</td>\n",
       "      <td>0.389402</td>\n",
       "      <td>0.389402</td>\n",
       "      <td>0.500968</td>\n",
       "      <td>0.317934</td>\n",
       "      <td>0.571719</td>\n",
       "      <td>0.513010</td>\n",
       "    </tr>\n",
       "    <tr>\n",
       "      <td>3</td>\n",
       "      <td>No log</td>\n",
       "      <td>0.393174</td>\n",
       "      <td>0.393174</td>\n",
       "      <td>0.503872</td>\n",
       "      <td>0.311326</td>\n",
       "      <td>0.570193</td>\n",
       "      <td>0.515416</td>\n",
       "    </tr>\n",
       "    <tr>\n",
       "      <td>4</td>\n",
       "      <td>No log</td>\n",
       "      <td>0.413753</td>\n",
       "      <td>0.413753</td>\n",
       "      <td>0.500067</td>\n",
       "      <td>0.275281</td>\n",
       "      <td>0.580875</td>\n",
       "      <td>0.544243</td>\n",
       "    </tr>\n",
       "    <tr>\n",
       "      <td>5</td>\n",
       "      <td>No log</td>\n",
       "      <td>0.423134</td>\n",
       "      <td>0.423134</td>\n",
       "      <td>0.500578</td>\n",
       "      <td>0.258849</td>\n",
       "      <td>0.576806</td>\n",
       "      <td>0.531842</td>\n",
       "    </tr>\n",
       "  </tbody>\n",
       "</table><p>"
      ],
      "text/plain": [
       "<IPython.core.display.HTML object>"
      ]
     },
     "metadata": {},
     "output_type": "display_data"
    },
    {
     "data": {
      "text/plain": [
       "TrainOutput(global_step=460, training_loss=0.38480612713357676, metrics={'train_runtime': 806.3054, 'train_samples_per_second': 36.27, 'train_steps_per_second': 0.571, 'total_flos': 3847306863275520.0, 'train_loss': 0.38480612713357676, 'epoch': 5.0})"
      ]
     },
     "execution_count": 30,
     "metadata": {},
     "output_type": "execute_result"
    }
   ],
   "source": [
    "model = AutoModelForSequenceClassification.from_pretrained(BASE_MODEL, num_labels=1)\n",
    "trainer = RegressionTrainer(\n",
    "    model=model,\n",
    "    args=training_args,\n",
    "    train_dataset=ds[\"train\"],\n",
    "    eval_dataset=ds[\"validation\"],\n",
    "    compute_metrics=compute_metrics_for_regression,\n",
    ")\n",
    "\n",
    "trainer.train()"
   ]
  },
  {
   "cell_type": "code",
   "execution_count": 32,
   "metadata": {
    "execution": {
     "iopub.execute_input": "2024-01-04T12:16:29.859714Z",
     "iopub.status.busy": "2024-01-04T12:16:29.858971Z",
     "iopub.status.idle": "2024-01-04T12:16:29.865766Z",
     "shell.execute_reply": "2024-01-04T12:16:29.864628Z",
     "shell.execute_reply.started": "2024-01-04T12:16:29.859682Z"
    }
   },
   "outputs": [],
   "source": [
    "size8 = [0.46, 0.52, 0.53, 0.57, 0.56]\n",
    "size16 = [0.46, 0.53, 0.50, 0.53, 0.54]\n",
    "size32 = [0.47, 0.51, 0.52, 0.54, 0.53]"
   ]
  },
  {
   "cell_type": "code",
   "execution_count": 33,
   "metadata": {
    "execution": {
     "iopub.execute_input": "2024-01-04T12:16:33.454677Z",
     "iopub.status.busy": "2024-01-04T12:16:33.453706Z",
     "iopub.status.idle": "2024-01-04T12:16:33.699328Z",
     "shell.execute_reply": "2024-01-04T12:16:33.698278Z",
     "shell.execute_reply.started": "2024-01-04T12:16:33.454643Z"
    }
   },
   "outputs": [
    {
     "data": {
      "image/png": "[encoded data removed]",
      "text/plain": [
       "<Figure size 640x480 with 1 Axes>"
      ]
     },
     "metadata": {},
     "output_type": "display_data"
    }
   ],
   "source": [
    "epochs = list(range(1, 6))  \n",
    "plt.plot(epochs, size8, label='batch_size = 8')\n",
    "plt.plot(epochs, size16, label='batch_size = 16')\n",
    "plt.plot(epochs, size32, label='batch_size = 32')\n",
    "\n",
    "plt.xlabel('Epochs')\n",
    "plt.ylabel('Macro Recall')\n",
    "plt.legend()\n",
    "plt.show()"
   ]
  },
  {
   "cell_type": "code",
   "execution_count": 41,
   "metadata": {
    "execution": {
     "iopub.execute_input": "2024-01-04T14:30:05.670007Z",
     "iopub.status.busy": "2024-01-04T14:30:05.669077Z",
     "iopub.status.idle": "2024-01-04T14:30:05.680000Z",
     "shell.execute_reply": "2024-01-04T14:30:05.678799Z",
     "shell.execute_reply.started": "2024-01-04T14:30:05.669967Z"
    }
   },
   "outputs": [],
   "source": [
    "training_args = TrainingArguments(\n",
    "    output_dir=\"../models/roberta-fine-tuned-regression-3\",\n",
    "    learning_rate=1e-5,\n",
    "    per_device_train_batch_size=8,\n",
    "    per_device_eval_batch_size=4,\n",
    "    num_train_epochs=5,\n",
    "    evaluation_strategy=\"epoch\",\n",
    "    save_strategy=\"epoch\",\n",
    "    save_total_limit=2,\n",
    "    metric_for_best_model=\"accuracy\",\n",
    "    load_best_model_at_end=True,\n",
    "    weight_decay=0.01,\n",
    ")"
   ]
  },
  {
   "cell_type": "code",
   "execution_count": 42,
   "metadata": {
    "execution": {
     "iopub.execute_input": "2024-01-04T14:30:13.576801Z",
     "iopub.status.busy": "2024-01-04T14:30:13.576419Z",
     "iopub.status.idle": "2024-01-04T14:47:47.707746Z",
     "shell.execute_reply": "2024-01-04T14:47:47.706728Z",
     "shell.execute_reply.started": "2024-01-04T14:30:13.576772Z"
    }
   },
   "outputs": [
    {
     "name": "stderr",
     "output_type": "stream",
     "text": [
      "Some weights of RobertaForSequenceClassification were not initialized from the model checkpoint at roberta-base and are newly initialized: ['classifier.out_proj.bias', 'classifier.dense.bias', 'classifier.out_proj.weight', 'classifier.dense.weight']\n",
      "You should probably TRAIN this model on a down-stream task to be able to use it for predictions and inference.\n"
     ]
    },
    {
     "data": {
      "text/html": [
       "\n",
       "    <div>\n",
       "      \n",
       "      <progress value='1830' max='1830' style='width:300px; height:20px; vertical-align: middle;'></progress>\n",
       "      [1830/1830 17:32, Epoch 5/5]\n",
       "    </div>\n",
       "    <table border=\"1\" class=\"dataframe\">\n",
       "  <thead>\n",
       " <tr style=\"text-align: left;\">\n",
       "      <th>Epoch</th>\n",
       "      <th>Training Loss</th>\n",
       "      <th>Validation Loss</th>\n",
       "      <th>Mse</th>\n",
       "      <th>Mae</th>\n",
       "      <th>R2</th>\n",
       "      <th>Accuracy</th>\n",
       "      <th>Recall</th>\n",
       "    </tr>\n",
       "  </thead>\n",
       "  <tbody>\n",
       "    <tr>\n",
       "      <td>1</td>\n",
       "      <td>No log</td>\n",
       "      <td>0.442352</td>\n",
       "      <td>0.442352</td>\n",
       "      <td>0.514632</td>\n",
       "      <td>0.225188</td>\n",
       "      <td>0.557477</td>\n",
       "      <td>0.474939</td>\n",
       "    </tr>\n",
       "    <tr>\n",
       "      <td>2</td>\n",
       "      <td>0.424300</td>\n",
       "      <td>0.368271</td>\n",
       "      <td>0.368271</td>\n",
       "      <td>0.489109</td>\n",
       "      <td>0.354946</td>\n",
       "      <td>0.593082</td>\n",
       "      <td>0.550573</td>\n",
       "    </tr>\n",
       "    <tr>\n",
       "      <td>3</td>\n",
       "      <td>0.289000</td>\n",
       "      <td>0.381826</td>\n",
       "      <td>0.381826</td>\n",
       "      <td>0.491391</td>\n",
       "      <td>0.331203</td>\n",
       "      <td>0.587996</td>\n",
       "      <td>0.537773</td>\n",
       "    </tr>\n",
       "    <tr>\n",
       "      <td>4</td>\n",
       "      <td>0.289000</td>\n",
       "      <td>0.399026</td>\n",
       "      <td>0.399026</td>\n",
       "      <td>0.482686</td>\n",
       "      <td>0.301077</td>\n",
       "      <td>0.596134</td>\n",
       "      <td>0.568324</td>\n",
       "    </tr>\n",
       "    <tr>\n",
       "      <td>5</td>\n",
       "      <td>0.225300</td>\n",
       "      <td>0.427886</td>\n",
       "      <td>0.427886</td>\n",
       "      <td>0.489543</td>\n",
       "      <td>0.250526</td>\n",
       "      <td>0.596643</td>\n",
       "      <td>0.568154</td>\n",
       "    </tr>\n",
       "  </tbody>\n",
       "</table><p>"
      ],
      "text/plain": [
       "<IPython.core.display.HTML object>"
      ]
     },
     "metadata": {},
     "output_type": "display_data"
    },
    {
     "data": {
      "text/plain": [
       "TrainOutput(global_step=1830, training_loss=0.290884860096082, metrics={'train_runtime': 1052.789, 'train_samples_per_second': 27.779, 'train_steps_per_second': 1.738, 'total_flos': 3847306863275520.0, 'train_loss': 0.290884860096082, 'epoch': 5.0})"
      ]
     },
     "execution_count": 42,
     "metadata": {},
     "output_type": "execute_result"
    }
   ],
   "source": [
    "model = AutoModelForSequenceClassification.from_pretrained(BASE_MODEL, num_labels=1)\n",
    "trainer = RegressionTrainer(\n",
    "    model=model,\n",
    "    args=training_args,\n",
    "    train_dataset=ds[\"train\"],\n",
    "    eval_dataset=ds[\"validation\"],\n",
    "    compute_metrics=compute_metrics_for_regression,\n",
    ")\n",
    "\n",
    "trainer.train()"
   ]
  },
  {
   "cell_type": "code",
   "execution_count": 43,
   "metadata": {
    "execution": {
     "iopub.execute_input": "2024-01-04T14:54:16.736982Z",
     "iopub.status.busy": "2024-01-04T14:54:16.736173Z",
     "iopub.status.idle": "2024-01-04T14:58:50.246415Z",
     "shell.execute_reply": "2024-01-04T14:58:50.245300Z",
     "shell.execute_reply.started": "2024-01-04T14:54:16.736945Z"
    }
   },
   "outputs": [
    {
     "data": {
      "text/html": [
       "\n",
       "    <div>\n",
       "      \n",
       "      <progress value='2573' max='2573' style='width:300px; height:20px; vertical-align: middle;'></progress>\n",
       "      [2573/2573 04:33]\n",
       "    </div>\n",
       "    "
      ],
      "text/plain": [
       "<IPython.core.display.HTML object>"
      ]
     },
     "metadata": {},
     "output_type": "display_data"
    },
    {
     "data": {
      "text/plain": [
       "{'eval_loss': 0.3871164917945862,\n",
       " 'eval_mse': 0.3871164917945862,\n",
       " 'eval_mae': 0.4732784330844879,\n",
       " 'eval_r2': 0.16630532793050024,\n",
       " 'eval_accuracy': 0.576287657920311,\n",
       " 'eval_recall': 0.5853779335394229,\n",
       " 'eval_runtime': 273.4949,\n",
       " 'eval_samples_per_second': 75.248,\n",
       " 'eval_steps_per_second': 9.408,\n",
       " 'epoch': 5.0}"
      ]
     },
     "execution_count": 43,
     "metadata": {},
     "output_type": "execute_result"
    }
   ],
   "source": [
    "trainer.eval_dataset=ds[\"test\"]\n",
    "trainer.evaluate()"
   ]
  },
  {
   "cell_type": "code",
   "execution_count": null,
   "metadata": {},
   "outputs": [],
   "source": []
  }
 ],
 "metadata": {
  "kaggle": {
   "accelerator": "nvidiaTeslaT4",
   "dataSources": [
    {
     "datasetId": 4096293,
     "sourceId": 7105417,
     "sourceType": "datasetVersion"
    }
   ],
   "dockerImageVersionId": 30627,
   "isGpuEnabled": true,
   "isInternetEnabled": true,
   "language": "python",
   "sourceType": "notebook"
  },
  "kernelspec": {
   "display_name": "Python 3 (ipykernel)",
   "language": "python",
   "name": "python3"
  },
  "language_info": {
   "codemirror_mode": {
    "name": "ipython",
    "version": 3
   },
   "file_extension": ".py",
   "mimetype": "text/x-python",
   "name": "python",
   "nbconvert_exporter": "python",
   "pygments_lexer": "ipython3",
   "version": "3.9.16"
  }
 },
 "nbformat": 4,
 "nbformat_minor": 4
}
